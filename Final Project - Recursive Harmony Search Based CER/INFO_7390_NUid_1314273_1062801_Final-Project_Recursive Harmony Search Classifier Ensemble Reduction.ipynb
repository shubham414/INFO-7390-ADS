{
 "cells": [
  {
   "cell_type": "markdown",
   "metadata": {},
   "source": [
    "![Neu](https://user-images.githubusercontent.com/59803099/102694091-ca79cf80-41ec-11eb-8baf-fa765175202c.jpg)\n"
   ]
  },
  {
   "cell_type": "markdown",
   "metadata": {},
   "source": [
    "# INFO 7390 – Advances in  Data Sciences  & Architecture\n"
   ]
  },
  {
   "cell_type": "markdown",
   "metadata": {},
   "source": [
    "# Project Name: Recursive Harmony Search Based Classifier Ensemble Reduction\n",
    "\n",
    "## Team Members: Shalini Chandra (001062801) & Shubham Mahajan (001314273)\n",
    "                           "
   ]
  },
  {
   "cell_type": "markdown",
   "metadata": {},
   "source": [
    "## Project objective:\n",
    "### Improve accuracy, diversity and reduce memory and storage requirement of ensemble classifier by eliminating redundancy."
   ]
  },
  {
   "cell_type": "markdown",
   "metadata": {},
   "source": [
    "# Abstract\n",
    "In recent times classifier ensembles have become a mainstay in data mining and machine learning. The combination\n",
    "of several classifiers generally results in better performance and accuracy as compared to a single classifier. There are many\n",
    "different methods and techniques for constructing ensembles. Most of the time however, when these ensemble classifiers are\n",
    "constructed, the data used in the construction of ensemble classifiers becomes redundant. This redundant data results in\n",
    "a loss of accuracy and an increase in memory and system overhead. Therefore by removing this redundant data we can\n",
    "reduce the memory and system overhead as well as obtain an increase in accuracy. The redundant data can be eliminated by\n",
    "using a technique called feature selection. Feature selection is used to select the most relevant features while performing any\n",
    "task. There are many different feature selection algorithms such as memetic algorithms, sub-modular feature selection, etc. The\n",
    "feature selection technique can be used to choose the relevant data and eliminate the redundant data. The way to eliminate\n",
    "redundant data in ensemble classifiers is to perform classifier ensemble reduction. This paper discusses using feature selection and in particular employing recursive harmony search to perform classifier ensemble reduction via feature selection. The final ensemble classifier will be a reduced set of the original ensemble\n",
    "classifier, while maintaining diversity and accuracy of the original\n",
    "one."
   ]
  },
  {
   "cell_type": "markdown",
   "metadata": {},
   "source": [
    "## Dataset \n",
    "The recursive harmony search feature selection algorithm  was tested against 2 datasets: <br>\n",
    "- The bank dataset (source: https://archive.ics.uci.edu/ml/datasets/bank+marketing)\n",
    "- The heart dataset (source: https://archive.ics.uci.edu/ml/datasets/heart+disease)\n",
    "\n",
    "This notebook specifically shows implemtation for the bank dataset. Algorithm has been tested against the heart dataset also, the result of which are attached at the end of this notebook. <br>\n",
    "For each dataset, we tested the performance with and without applying the recursive harmony search feature selection algorithm."
   ]
  },
  {
   "cell_type": "markdown",
   "metadata": {},
   "source": [
    "# Introduction\n",
    "\n",
    "● Ensemble learning: A machine learning approach where multiple classifiers are trained to solve\n",
    "the same problem.\n",
    "\n",
    "● The main objective of ensemble classifiers is to improve the performance of stand alone\n",
    "classifiers.\n",
    "\n",
    "● Problem: Redundant classifiers and redundant data.\n",
    "\n",
    "● Consequence:\n",
    "\n",
    "  - No improvement in accuracy and diversity.\n",
    "  - Increased training and testing time.\n",
    "\n",
    "● Therefore the time and data constraints result in a significant overhead to system memory and\n",
    "run time."
   ]
  },
  {
   "cell_type": "markdown",
   "metadata": {},
   "source": [
    "# Harmony Search"
   ]
  },
  {
   "cell_type": "markdown",
   "metadata": {},
   "source": [
    "\n",
    "As we know, when musicians compose the harmony, they usually try various possible combinations of the music pitches stored in their memory. This search for the perfect harmony is indeed analogous to the procedure of finding the optimal solutions to engineering problems. The HS method is actually inspired by the working principles of the harmony improvisation. The pseudocode of the HS is given in Algorithm 1.\n",
    "\n",
    "\n",
    "![Algo](https://user-images.githubusercontent.com/59803099/102680716-d2a02380-4188-11eb-932d-b4c65de4eabb.JPG)\n",
    "\n",
    "\n",
    "Harmony search is a meta heuristic algorithm which is based on finding a solution vector to optimize the cost function of a given optimization problem.\n",
    "\n",
    "● Essentially harmony search is selecting the set of notes (set of features) that produce the best\n",
    "harmony (global optimum).\n",
    "\n",
    "● The musician is the decision variable, the musician decides whether a note should be included in\n",
    "the harmony or not. The harmony (feature subset) is composed of notes that the musicians decide\n",
    "on.\n",
    "\n",
    "● Evaluate the feature subsets to identify the best harmony that is produced by the decisions of the\n",
    "musicians."
   ]
  },
  {
   "cell_type": "markdown",
   "metadata": {},
   "source": [
    "# Harmony Search Feature Selection\n"
   ]
  },
  {
   "cell_type": "markdown",
   "metadata": {},
   "source": [
    "● The feature selection algorithm to perform classifier ensemble reduction is inspired from the\n",
    "harmony search algorithm.\n",
    "\n",
    "● The notes are the base classifiers and the harmony is the ensemble classifier.\n",
    "\n",
    "● The idea is that the musician will select whether to use a base model or not, that is whether the base model should be included in the group of classifiers forming the ensemble classifier.\n",
    "\n",
    "● Problem: Reliance on a randomly initialized harmony search matrix, which could lead to a\n",
    "suboptimal solution."
   ]
  },
  {
   "cell_type": "markdown",
   "metadata": {},
   "source": [
    "# Recursive Harmony Search Feature Selection\n",
    "\n",
    "● To overcome the drawback we proposed an extension to the harmony search feature selection\n",
    "algorithm.\n",
    "\n",
    "● The recursive harmony search feature selection algorithm reduces the reliance of the harmony\n",
    "search feature selection algorithm on the initial matrix.\n",
    "\n",
    "● Recursive harmony search feature selection initializes multiple harmony matrices and\n",
    "evaluates these matrices recursively (using harmony search) to find the optimal matrix across\n",
    "all the initial matrices.\n",
    "\n",
    "● This final matrix leads to an optimal solution as the reliance on the randomly initialized\n",
    "harmony search matrix is vastly reduced."
   ]
  },
  {
   "cell_type": "markdown",
   "metadata": {},
   "source": [
    "# Ensembling\n",
    "\n",
    "Ensemble learning helps improve machine learning results by combining several models. This approach allows the production of better predictive performance compared to a single model. That is why ensemble methods placed first in many prestigious machine learning competitions, such as the Netflix Competition, KDD 2009, and Kaggle.\n",
    "The Statsbot team wanted to give you the advantage of this approach and asked a data scientist, Vadim Smolyakov, to dive into three basic ensemble learning techniques.\n",
    "\n",
    "Ensemble methods are meta-algorithms that combine several machine learning techniques into one predictive model in order to decrease variance (bagging), bias (boosting), or improve predictions (stacking).\n",
    "Ensemble methods can be divided into two groups:\n",
    "\n",
    "- sequential ensemble methods where the base learners are generated sequentially (e.g. AdaBoost).\n",
    "The basic motivation of sequential methods is to exploit the dependence between the base learners. The overall performance can be boosted by weighing previously mislabeled examples with higher weight.\n",
    "- parallel ensemble methods where the base learners are generated in parallel (e.g. Random Forest).\n",
    "The basic motivation of parallel methods is to exploit independence between the base learners since the error can be reduced dramatically by averaging."
   ]
  },
  {
   "cell_type": "code",
   "execution_count": 1,
   "metadata": {},
   "outputs": [],
   "source": [
    "import pandas as pd\n",
    "import random\n",
    "import numpy as np\n",
    "import category_encoders as ce\n",
    "from sklearn import datasets, linear_model, preprocessing\n",
    "from sklearn.model_selection import learning_curve, GridSearchCV\n",
    "from sklearn.impute import SimpleImputer\n",
    "from sklearn.preprocessing import PolynomialFeatures, StandardScaler\n",
    "from sklearn.tree import DecisionTreeClassifier\n",
    "from sklearn.model_selection import KFold\n",
    "from sklearn.ensemble import RandomForestClassifier\n",
    "from sklearn.model_selection import StratifiedKFold, KFold\n",
    "from sklearn.preprocessing import OneHotEncoder\n",
    "import joblib\n",
    "from keras.layers import Dense, Activation, Dropout\n",
    "from sklearn.metrics import roc_auc_score, average_precision_score, f1_score, log_loss, accuracy_score, \\\n",
    "mean_absolute_error, mean_squared_error, r2_score\n",
    "from sklearn.model_selection import train_test_split\n",
    "from joblib import Parallel, delayed\n",
    "from functools import partial\n",
    "np.random.seed(1338)"
   ]
  },
  {
   "cell_type": "markdown",
   "metadata": {},
   "source": [
    "# Evaluation Metrics"
   ]
  },
  {
   "cell_type": "code",
   "execution_count": 2,
   "metadata": {},
   "outputs": [],
   "source": [
    "def metric_set(metric):\n",
    "    \n",
    "    global metric_score\n",
    "    global metric_grid_search\n",
    "    metric_functions = {'roc_auc_score' : [roc_auc_score, 'roc_auc'], 'average_precision_score' : \n",
    "                        [average_precision_score, 'average_precision'], 'f1_score' : [f1_score, 'f1'],\n",
    "                        'log_loss' : [log_loss, 'log_loss'], 'accuracy_score' : [accuracy_score, 'accuracy'],\n",
    "                        'mean_absolute_error' : [mean_absolute_error,'mean_absolute_error'],\n",
    "                        'mean_squared_error':[mean_squared_error, 'mean_squared_error'],\n",
    "                        'r2_score' : [r2_score, 'r2']\n",
    "                        }\n",
    "    \n",
    "    metric_score = metric_functions[metric][0]\n",
    "    metric_grid_search = metric_functions[metric][1]"
   ]
  },
  {
   "cell_type": "markdown",
   "metadata": {},
   "source": [
    "# Getting The Data"
   ]
  },
  {
   "cell_type": "code",
   "execution_count": 3,
   "metadata": {},
   "outputs": [],
   "source": [
    "def data_import(data, label_output, split = True, stratify = True, split_size = 0.3):\n",
    "    \n",
    "    global Data\n",
    "    Data = data\n",
    "    \n",
    "    #Reading the data, into a Data Frame.\n",
    "    global target_label\n",
    "    target_label = label_output\n",
    "\n",
    "    #Selcting the columns of string data type\n",
    "    names = data.select_dtypes(include = ['object'])\n",
    "    \n",
    "    #Converting string categorical variables to integer categorical variables.\n",
    "    label_encode(names.columns.tolist())\n",
    "    \n",
    "    if(target_label in names):\n",
    "        \n",
    "        columns = names.drop([target_label],axis=1).columns.tolist()\n",
    "        \n",
    "    else:\n",
    "        \n",
    "        columns = names\n",
    "        \n",
    "    #This function intializes the dataframes that will be used later in the program\n",
    "    #data_initialize()\n",
    "    \n",
    "    #Splitting the data into to train and test sets, according to user preference\n",
    "    if(split == True):\n",
    "        \n",
    "        test_data = data_split(stratify,split_size)\n",
    "        return test_data"
   ]
  },
  {
   "cell_type": "code",
   "execution_count": 4,
   "metadata": {},
   "outputs": [],
   "source": [
    "#Function that encodes the string values to numerical values.\n",
    "def label_encode(column_names):\n",
    "    \n",
    "    global Data\n",
    "    #Encoding the data, encoding the string values into numerical values.\n",
    "    encoder = ce.OrdinalEncoder(cols = column_names, verbose = 1)\n",
    "    Data = encoder.fit_transform(Data)"
   ]
  },
  {
   "cell_type": "markdown",
   "metadata": {},
   "source": [
    "# Data For Ensembling (Training)"
   ]
  },
  {
   "cell_type": "code",
   "execution_count": 5,
   "metadata": {},
   "outputs": [],
   "source": [
    "#The dataframes will be used in the training phase of the ensemble models\n",
    "def second_level_train_data(predict_list, cross_val_X, cross_val_Y):\n",
    "    \n",
    "    #Converting the list of predictions into a dataframe, which will be used to train the stacking model.\n",
    "    global stack_X\n",
    "    stack_X = pd.DataFrame()\n",
    "    stack_X = stack_X.append(build_data_frame(predict_list))\n",
    "    \n",
    "    #Building a list that contains all the raw features, used as cross validation data for the base models.\n",
    "    global raw_features_X\n",
    "    raw_features_X = pd.DataFrame()\n",
    "    raw_features_X = raw_features_X.append(cross_val_X,ignore_index=True)\n",
    "    \n",
    "    #The data frame will contain the predictions and raw features  of the base models, for training the blending\n",
    "    #model\n",
    "    global blend_X\n",
    "    blend_X = pd.DataFrame()\n",
    "    blend_X = pd.concat([raw_features_X, stack_X], axis = 1, ignore_index = True)\n",
    "    \n",
    "    #Storing the cross validation dataset labels in the variable stack_Y, \n",
    "    #which will be used later to train the stacking and blending models.\n",
    "    global stack_Y\n",
    "    stack_Y = cross_val_Y  "
   ]
  },
  {
   "cell_type": "markdown",
   "metadata": {},
   "source": [
    "# Data For Ensembling (Testing)"
   ]
  },
  {
   "cell_type": "code",
   "execution_count": 6,
   "metadata": {},
   "outputs": [],
   "source": [
    "#The dataframes will be used in the testing phase of the ensemble models\n",
    "def second_level_test_data(predict_list, test_X, test_Y):\n",
    "    \n",
    "    #Converting the list of predictions into a dataframe, which will be used to test the stacking model.\n",
    "    global test_stack_X\n",
    "    test_stack_X = pd.DataFrame()\n",
    "    test_stack_X = test_stack_X.append(build_data_frame(predict_list))\n",
    "    \n",
    "    #Building a list that contains all the raw features, used as test data for the base models.\n",
    "    global test_raw_features_X\n",
    "    test_raw_features_X = pd.DataFrame()\n",
    "    test_raw_features_X = test_raw_features_X.append(test_X,ignore_index=True)\n",
    "    \n",
    "    #The data frame will contain the predictions and raw features of the base models, for testing the blending\n",
    "    #model\n",
    "    global test_blend_X\n",
    "    test_blend_X = pd.DataFrame()\n",
    "    test_blend_X = pd.concat([test_raw_features_X, test_stack_X], axis = 1, ignore_index = True)\n",
    "    \n",
    "    #Storing the cross validation dataset labels in the variable stack_Y, \n",
    "    #which will be used later to test the stacking and blending models.\n",
    "    global test_stack_Y\n",
    "    test_stack_Y = test_Y  "
   ]
  },
  {
   "cell_type": "code",
   "execution_count": 7,
   "metadata": {},
   "outputs": [],
   "source": [
    "#Splitting the data into training and testing datasets\n",
    "def data_split(stratify, split_size):\n",
    "    \n",
    "    global Data\n",
    "    \n",
    "    #Stratified Split\n",
    "    if(stratify == True):\n",
    "        Data, test = train_test_split(Data, test_size = split_size, stratify = Data[target_label],random_state = 0)\n",
    "        \n",
    "    #Random Split\n",
    "    else:\n",
    "        Data, test = train_test_split(Data, test_size = split_size,random_state = 0) \n",
    "        \n",
    "    return test"
   ]
  },
  {
   "cell_type": "code",
   "execution_count": 8,
   "metadata": {},
   "outputs": [],
   "source": [
    "#This function is used to convert the predictions of the base models (numpy array) into a DataFrame.\n",
    "def build_data_frame(data):\n",
    "    \n",
    "    data_frame = pd.DataFrame(data).T\n",
    "    return data_frame"
   ]
  },
  {
   "cell_type": "markdown",
   "metadata": {},
   "source": [
    "# Decision Tree"
   ]
  },
  {
   "cell_type": "code",
   "execution_count": 9,
   "metadata": {},
   "outputs": [],
   "source": [
    "#Trains the Decision Tree model. Performing a grid search to select the optimal parameter values\n",
    "def train_decision_tree(train_X, train_Y, parameters_decision_tree):\n",
    "    \n",
    "    decision_tree_model = DecisionTreeClassifier()      \n",
    "    model_gs = GridSearchCV(decision_tree_model, parameters_decision_tree, scoring = metric_grid_search)\n",
    "    model_gs.fit(train_X,train_Y)\n",
    "    return model_gs"
   ]
  },
  {
   "cell_type": "code",
   "execution_count": 10,
   "metadata": {},
   "outputs": [],
   "source": [
    "#Predicts the output on a set of data, the built model is passed as a parameter, which is used to predict\n",
    "def predict_decision_tree(data_X, data_Y, decision_tree):\n",
    "    \n",
    "    predicted_values = decision_tree.predict_proba(data_X)[:, 1]\n",
    "    metric = metric_score(data_Y, predicted_values)\n",
    "    \n",
    "    return [metric,predicted_values]"
   ]
  },
  {
   "cell_type": "code",
   "execution_count": 11,
   "metadata": {},
   "outputs": [],
   "source": [
    "def parameter_set_decision_tree(criterion = ['gini'], splitter = ['best'], max_depth = [None],\\\n",
    "                                min_samples_split = [2], min_samples_leaf = [1], min_weight_fraction_leaf = [0.0],\\\n",
    "                                max_features = [None], random_state = [None], max_leaf_nodes = [None],\\\n",
    "                                class_weight = [None], presort = [False]):\n",
    "    \n",
    "    parameters_decision_tree = {}\n",
    "    parameters_decision_tree['criterion'] = criterion\n",
    "    parameters_decision_tree['splitter'] = splitter\n",
    "    parameters_decision_tree['max_depth'] = max_depth\n",
    "    parameters_decision_tree['min_samples_split'] = min_samples_split\n",
    "    parameters_decision_tree['min_samples_leaf'] = min_samples_leaf\n",
    "    parameters_decision_tree['min_weight_fraction_leaf'] = min_weight_fraction_leaf\n",
    "    parameters_decision_tree['max_features'] = max_features\n",
    "    parameters_decision_tree['random_state'] = random_state\n",
    "    parameters_decision_tree['max_leaf_nodes'] = max_leaf_nodes\n",
    "    parameters_decision_tree['class_weight'] = class_weight\n",
    "    parameters_decision_tree['presort'] = presort\n",
    "    \n",
    "    return parameters_decision_tree"
   ]
  },
  {
   "cell_type": "markdown",
   "metadata": {},
   "source": [
    "# Random Forest"
   ]
  },
  {
   "cell_type": "code",
   "execution_count": 12,
   "metadata": {},
   "outputs": [],
   "source": [
    "#Trains the Random Forest model. Performing a grid search to select the optimal parameter values\n",
    "def train_random_forest(train_X, train_Y, parameters_random_forest):\n",
    "    \n",
    "    random_forest_model = RandomForestClassifier()\n",
    "    model_gs = GridSearchCV(random_forest_model, parameters_random_forest, scoring = metric_grid_search)\n",
    "    model_gs.fit(train_X,train_Y)\n",
    "    return model_gs"
   ]
  },
  {
   "cell_type": "code",
   "execution_count": 13,
   "metadata": {},
   "outputs": [],
   "source": [
    "#Predicts the output on a set of data, the built model is passed as a parameter, which is used to predict\n",
    "def predict_random_forest(data_X, data_Y, random_forest):\n",
    "    \n",
    "    predicted_values = random_forest.predict_proba(data_X)[:, 1]\n",
    "    metric = metric_score(data_Y, predicted_values)\n",
    "    \n",
    "    return [metric,predicted_values]"
   ]
  },
  {
   "cell_type": "code",
   "execution_count": 14,
   "metadata": {},
   "outputs": [],
   "source": [
    "#Parameters for random forest. To perform hyper parameter optimisation a list of multiple elements can be entered\n",
    "#and the optimal value in that list will be picked using grid search\n",
    "def parameter_set_random_forest(n_estimators = [10], criterion = ['gini'], max_depth = [None],\\\n",
    "                                min_samples_split = [2], min_samples_leaf = [1], min_weight_fraction_leaf = [0.0],\\\n",
    "                                max_features = ['auto'], max_leaf_nodes = [None], bootstrap = [True],\\\n",
    "                                oob_score = [False], random_state = [None], verbose = [0],warm_start = [False],\\\n",
    "                                class_weight = [None]):\n",
    "    \n",
    "    parameters_random_forest = {}\n",
    "    parameters_random_forest['criterion'] = criterion\n",
    "    parameters_random_forest['n_estimators'] = n_estimators\n",
    "    parameters_random_forest['max_depth'] = max_depth\n",
    "    parameters_random_forest['min_samples_split'] = min_samples_split\n",
    "    parameters_random_forest['min_samples_leaf'] = min_samples_leaf\n",
    "    parameters_random_forest['min_weight_fraction_leaf'] = min_weight_fraction_leaf\n",
    "    parameters_random_forest['max_features'] = max_features\n",
    "    parameters_random_forest['random_state'] = random_state\n",
    "    parameters_random_forest['max_leaf_nodes'] = max_leaf_nodes\n",
    "    parameters_random_forest['class_weight'] = class_weight\n",
    "    parameters_random_forest['bootstrap'] = bootstrap\n",
    "    parameters_random_forest['oob_score'] = oob_score\n",
    "    parameters_random_forest['warm_start'] = warm_start\n",
    "    \n",
    "    return parameters_random_forest"
   ]
  },
  {
   "cell_type": "markdown",
   "metadata": {},
   "source": [
    "# Linear Regression"
   ]
  },
  {
   "cell_type": "code",
   "execution_count": 15,
   "metadata": {},
   "outputs": [],
   "source": [
    "#Trains the Linear Regression model. Performing a grid search to select the optimal parameter values\n",
    "def train_linear_regression(train_X, train_Y, parameters_linear_regression):\n",
    "    \n",
    "    linear_regression_model = linear_model.LinearRegression()\n",
    "    train_X=StandardScaler().fit_transform(train_X)\n",
    "    model_gs = GridSearchCV(linear_regression_model, parameters_linear_regression,\\\n",
    "                                        scoring = metric_grid_search)\n",
    "    model_gs.fit(train_X,train_Y)\n",
    "    return model_gs"
   ]
  },
  {
   "cell_type": "code",
   "execution_count": 16,
   "metadata": {},
   "outputs": [],
   "source": [
    "#Predicts the output on a set of data, the built model is passed as a parameter, which is used to predict\n",
    "def predict_linear_regression(data_X, data_Y, linear_regression):\n",
    "    \n",
    "    data_X = StandardScaler().fit_transform(data_X)\n",
    "    predicted_values = linear_regression.predict(data_X)\n",
    "    metric = metric_score(data_Y, predicted_values)\n",
    "    \n",
    "    return [metric,predicted_values]"
   ]
  },
  {
   "cell_type": "code",
   "execution_count": 17,
   "metadata": {},
   "outputs": [],
   "source": [
    "#Parameters for linear regression. To perform hyper parameter optimisation a list of multiple elements can be entered\n",
    "#and the optimal value in that list will be picked using grid search\n",
    "def parameter_set_linear_regression(fit_intercept = [True], normalize = [False], copy_X = [True]):\n",
    "    \n",
    "    parameters_linear_regression = {}\n",
    "    parameters_linear_regression['fit_intercept'] = fit_intercept\n",
    "    parameters_linear_regression['normalize'] = normalize\n",
    "    \n",
    "    return parameters_linear_regression"
   ]
  },
  {
   "cell_type": "markdown",
   "metadata": {},
   "source": [
    "# Logistic Regression"
   ]
  },
  {
   "cell_type": "code",
   "execution_count": 18,
   "metadata": {},
   "outputs": [],
   "source": [
    "#Trains the Logistic Regression  model. Performing a grid search to select the optimal parameter values\n",
    "def train_logistic_regression(train_X, train_Y, parameters_logistic_regression):\n",
    "\n",
    "    logistic_regression_model = linear_model.LogisticRegression()\n",
    "    #train_X=StandardScaler().fit_transform(train_X)\n",
    "    model_gs = GridSearchCV(logistic_regression_model, parameters_logistic_regression,\\\n",
    "                                        scoring = metric_grid_search)\n",
    "    model_gs.fit(train_X,train_Y)\n",
    "    return model_gs"
   ]
  },
  {
   "cell_type": "code",
   "execution_count": 19,
   "metadata": {},
   "outputs": [],
   "source": [
    "#Predicts the output on a set of data, the built model is passed as a parameter, which is used to predict\n",
    "def predict_logistic_regression(data_X, data_Y, logistic_regression):\n",
    "    \n",
    "    #data_X = StandardScaler().fit_transform(data_X)\n",
    "    predicted_values = logistic_regression.predict_proba(data_X)[:, 1]\n",
    "    \n",
    "    if(metric_grid_search in ['f1', 'log_loss', 'accuracy', 'mean_squared_error', 'mean_absolute_error', 'r2']):\n",
    "        \n",
    "        predictions = logistic_regression.predict(data_X)\n",
    "        metric = metric_score(data_Y, predictions)\n",
    "        \n",
    "    else :\n",
    "        \n",
    "        metric = metric_score(data_Y, predicted_values)\n",
    "    \n",
    "    return [metric,predicted_values]"
   ]
  },
  {
   "cell_type": "code",
   "execution_count": 20,
   "metadata": {},
   "outputs": [],
   "source": [
    "#Parameters for logistic regression. To perform hyper parameter optimisation a list of multiple elements can be entered\n",
    "#And the optimal value in that list will be picked using grid search\n",
    "def parameter_set_logistic_regression(penalty = ['l2'], dual = [False], tol = [0.0001], C = [1.0],\\\n",
    "                                      fit_intercept = [True], intercept_scaling = [1], class_weight = [None],\\\n",
    "                                      random_state = [None], solver = ['liblinear'], max_iter = [100],\\\n",
    "                                      multi_class = ['ovr'], verbose = [0], warm_start = [False]):\n",
    "    \n",
    "    parameters_logistic_regression = {}\n",
    "    parameters_logistic_regression['penalty'] = penalty\n",
    "    parameters_logistic_regression['dual'] = dual\n",
    "    parameters_logistic_regression['tol'] = tol\n",
    "    parameters_logistic_regression['C'] = C\n",
    "    parameters_logistic_regression['fit_intercept'] = fit_intercept\n",
    "    parameters_logistic_regression['intercept_scaling'] = intercept_scaling\n",
    "    parameters_logistic_regression['class_weight'] = class_weight\n",
    "    parameters_logistic_regression['solver'] = solver\n",
    "    parameters_logistic_regression['max_iter'] = max_iter\n",
    "    parameters_logistic_regression['multi_class'] = multi_class\n",
    "    parameters_logistic_regression['warm_start'] = warm_start\n",
    "    \n",
    "    return parameters_logistic_regression"
   ]
  },
  {
   "cell_type": "code",
   "execution_count": 21,
   "metadata": {},
   "outputs": [],
   "source": [
    "#Parameters for logistic regression. To perform hyper parameter optimisation a list of multiple elements can be entered\n",
    "#And the optimal value in that list will be picked using grid search\n",
    "def parameter_set_stacking(penalty = ['l2'], dual = [False], tol = [0.0001], C = [1.0],\\\n",
    "                                      fit_intercept = [True], intercept_scaling = [1], class_weight = [None],\\\n",
    "                                      random_state = [None], solver = ['liblinear'], max_iter = [100],\\\n",
    "                                      multi_class = ['ovr'], verbose = [0], warm_start = [False]):\n",
    "    \n",
    "    parameters_stacking = {}\n",
    "    parameters_stacking['penalty'] = penalty\n",
    "    parameters_stacking['dual'] = dual\n",
    "    parameters_stacking['tol'] = tol\n",
    "    parameters_stacking['C'] = C\n",
    "    parameters_stacking['fit_intercept'] = fit_intercept\n",
    "    parameters_stacking['intercept_scaling'] = intercept_scaling\n",
    "    parameters_stacking['class_weight'] = class_weight\n",
    "    parameters_stacking['solver'] = solver\n",
    "    parameters_stacking['max_iter'] = max_iter\n",
    "    parameters_stacking['multi_class'] = multi_class\n",
    "    parameters_stacking['warm_start'] = warm_start\n",
    "    \n",
    "    return parameters_stacking"
   ]
  },
  {
   "cell_type": "markdown",
   "metadata": {},
   "source": [
    "# Stacking"
   ]
  },
  {
   "cell_type": "code",
   "execution_count": 22,
   "metadata": {},
   "outputs": [],
   "source": [
    "#The stacked ensmeble will be trained by using one or more of the base model algorithms\n",
    "#The function of the base model algorithm that will be used to train will be passed as the\n",
    "#model_function parameter and the parameters required to train the algorithm/model will be passed as the\n",
    "#model_parameters parameter\n",
    "def train_stack(data_X, data_Y, model_function, model_parameters):\n",
    "    \n",
    "    model = model_function(data_X, data_Y, model_parameters)\n",
    "    return model"
   ]
  },
  {
   "cell_type": "code",
   "execution_count": 23,
   "metadata": {},
   "outputs": [],
   "source": [
    "#Predicts the output on a set of stacked data, after the stacked model has been built by using a base model\n",
    "#algorithm, hence we need the predict funcction of that base model algorithm to get the predictions\n",
    "#The predict function of the base model is passed as the predict_function parameter and its respective model is \n",
    "#passed as the model parameter\n",
    "def predict_stack(data_X, data_Y, predict_function, model):\n",
    "    \n",
    "    metric,predicted_values = predict_function(data_X, data_Y, model)\n",
    "    return [metric,predicted_values]"
   ]
  },
  {
   "cell_type": "markdown",
   "metadata": {},
   "source": [
    "# Blending"
   ]
  },
  {
   "cell_type": "code",
   "execution_count": 24,
   "metadata": {},
   "outputs": [],
   "source": [
    "#The blending ensmeble will be trained by using one or more of the base model algorithms\n",
    "#The function of the base model algorithm that will be used to train will be passed as the\n",
    "#model_function parameter and the parameters required to train the algorithm/model will be passed as the\n",
    "#model_parameters parameter\n",
    "def train_blend(data_X, data_Y, model_function, model_parameters):\n",
    "    \n",
    "    model = model_function(blend_X, data_Y, model_parameters)\n",
    "    return model"
   ]
  },
  {
   "cell_type": "code",
   "execution_count": 25,
   "metadata": {},
   "outputs": [],
   "source": [
    "#Predicts the output on a set of blended data, after the blending model has been built by using a base model\n",
    "#algorithm, hence we need the predict function of that base model algorithm to get the predictions\n",
    "#The predict function of the base model is passed as the predict_function parameter and its respective model is \n",
    "#passed as the model parameter\n",
    "def predict_blend(data_X, data_Y, predict_function, model):\n",
    "    \n",
    "    metric,predicted_values = predict_function(test_blend_X, data_Y, model)\n",
    "    return [metric,predicted_values]"
   ]
  },
  {
   "cell_type": "markdown",
   "metadata": {},
   "source": [
    "# Training & Predictions"
   ]
  },
  {
   "cell_type": "code",
   "execution_count": 26,
   "metadata": {},
   "outputs": [],
   "source": [
    "#Constructing a list (train_model_list) that contains a tuple for each base model, the tuple contains the name of \n",
    "#the function that trains the base model, and the paramters for training the base model. \n",
    "\n",
    "#Constructing a list (predict_model_list) that contains a tuple for each base model, the tuple contains the name of \n",
    "#the function that computes the predictions for the base model.\n",
    "\n",
    "#In the list computed for stacking and blending, the tuples have an additional element which is the train_stack \n",
    "#function or the train_blend function. This is done because different set of data (predictions of base models) \n",
    "#needs to be passed to the base model algorithms. These function enable performing the above procedure\n",
    "\n",
    "#These lists are constructed in such a way to enable the ease of use of the joblib library, i.e the parallel \n",
    "#module/function\n",
    "\n",
    "def construct_model_parameter_list(model_list, parameters_list, stack = False, blend = False):\n",
    "    \n",
    "    model_functions = {#'multi_layer_perceptron' : [train_multi_layer_perceptron,predict_multi_layer_perceptron],\n",
    "                       'decision_tree' : [train_decision_tree,predict_decision_tree],\n",
    "                       'random_forest' : [train_random_forest,predict_random_forest],\n",
    "                       'linear_regression' : [train_linear_regression,predict_linear_regression],\n",
    "                       'logistic_regression' : [train_logistic_regression,predict_logistic_regression]\n",
    "                      }\n",
    "    \n",
    "    train_model_list = list()\n",
    "    predict_model_list = list()\n",
    "    model_parameter_index = 0\n",
    "    \n",
    "    for model in model_list:\n",
    "        \n",
    "        if(stack == True):\n",
    "            \n",
    "            train_model_list.append((model_functions[model][0],parameters_list[model_parameter_index]\\\n",
    "                                         ,train_stack))\n",
    "            predict_model_list.append((model_functions[model][1],predict_stack))\n",
    "            \n",
    "        elif(blend == True):\n",
    "            \n",
    "            train_model_list.append((model_functions[model][0],parameters_list[model_parameter_index]\\\n",
    "                                         ,train_blend))\n",
    "            predict_model_list.append((model_functions[model][1],predict_blend))\n",
    "            \n",
    "        else:\n",
    "            \n",
    "            train_model_list.append((model_functions[model][0],parameters_list[model_parameter_index]))\n",
    "            predict_model_list.append(model_functions[model][1])\n",
    "            \n",
    "        model_parameter_index = model_parameter_index + 1\n",
    "        \n",
    "    return [train_model_list,predict_model_list]"
   ]
  },
  {
   "cell_type": "code",
   "execution_count": 27,
   "metadata": {},
   "outputs": [],
   "source": [
    "#This function computes a list where each element is a tuple that contains the predict function of the base model\n",
    "#along with the corresponding base model object. This is done so that the base model object can be passed to the\n",
    "#predict function as a prameter to compute the predictions when using joblib's parallel module/function. \n",
    "def construct_model_predict_function_list(model_list, models,predict_model_list):\n",
    "    \n",
    "    model_index = 0\n",
    "    model_function_list = list()\n",
    "    for model in model_list:\n",
    "        \n",
    "        model_function_list.append((predict_model_list[model_index],models[model_index]))\n",
    "        model_index = model_index + 1\n",
    "    return model_function_list"
   ]
  },
  {
   "cell_type": "code",
   "execution_count": 28,
   "metadata": {},
   "outputs": [],
   "source": [
    "#This function calls the respective training and predic functions of the base models.\n",
    "def train_base_models(model_list, parameters_list, save_models = False):\n",
    "    \n",
    "    #print('\\nTRAINING BASE MODELS\\n')\n",
    "    \n",
    "    #Cross Validation using Stratified K Fold\n",
    "    train, cross_val = train_test_split(Data, test_size = 0.5, stratify = Data[target_label],random_state = 0)\n",
    "    \n",
    "    #Training the base models, and calculating AUC on the cross validation data.\n",
    "    #Selecting the data (Traing Data & Cross Validation Data)\n",
    "    train_Y = train[target_label]\n",
    "    train_X = train.drop([target_label],axis=1)\n",
    " \n",
    "    cross_val_Y = cross_val[target_label]\n",
    "    cross_val_X = cross_val.drop([target_label],axis=1)\n",
    "    \n",
    "    #The list of base models the user wants to train.\n",
    "    global base_model_list\n",
    "    base_model_list = model_list\n",
    "\n",
    "    \n",
    "    #No of base models that user wants to train\n",
    "    global no_of_base_models\n",
    "    no_of_base_models = len(base_model_list)\n",
    "    \n",
    "    \n",
    "    #We get the list of base model training functions and predict functions. The elements of the two lists are  \n",
    "    #tuples that have (base model training function,model parameters), (base model predict functions) respectively\n",
    "    [train_base_model_list,predict_base_model_list] = construct_model_parameter_list(base_model_list,\\\n",
    "                                                                                     parameters_list)\n",
    "    \n",
    "\n",
    "    #Training the base models parallely, the resulting models are stored which will be used for cross validation.\n",
    "    models = (Parallel(n_jobs = -1)(delayed(function)(train_X, train_Y, model_parameter)\\\n",
    "                                                   for function, model_parameter in train_base_model_list))\n",
    "\n",
    "    #A list with elements as tuples containing (base model predict function, and its respective model object) is \n",
    "    #returned. This list is used in the next step in the predict_base_models function, the list will be used in\n",
    "    #joblibs parallel module/function to compute the predictions and metric scores of the base models\n",
    "    #Appended in the following manner so it can be used in joblib's parallel module/function\n",
    "    global base_model_predict_function_list\n",
    "    base_model_predict_function_list = construct_model_predict_function_list(base_model_list, models,\\\n",
    "                                                                        predict_base_model_list)\n",
    "    predict_list, data_X, data_Y = predict_base_models(cross_val_X, cross_val_Y,mode = 'train')\n",
    "    \n",
    "    return [predict_list, data_X, data_Y]"
   ]
  },
  {
   "cell_type": "markdown",
   "metadata": {},
   "source": [
    "# Prediction: Base Classifier"
   ]
  },
  {
   "cell_type": "code",
   "execution_count": 29,
   "metadata": {},
   "outputs": [],
   "source": [
    "def predict_base_models(data_X, data_Y,mode):\n",
    "    \n",
    "    #print('\\nTESTING/CROSS VALIDATION BASE MODELS\\n')\n",
    "    \n",
    "    predict_list = list()\n",
    "\n",
    "    #predict_multi_layer_perceptron = list()\n",
    "    predict_decision_tree = list()\n",
    "    predict_random_forest = list()\n",
    "    predict_linear_regression = list()\n",
    "    predict_logistic_regression = list()\n",
    "    \n",
    "    metric_linear_regression = list()\n",
    "    metric_logistic_regression = list()\n",
    "    metric_decision_tree = list()\n",
    "    metric_random_forest = list()\n",
    "    metric_multi_layer_perceptron = list()\n",
    "    \n",
    "    auc_predict_index = 0\n",
    "    \n",
    "    #Initializing a list which will contain the predictions of the base models and the variables that will\n",
    "    #calculate the metric score\n",
    "    model_predict_metric = {#'multi_layer_perceptron' : [predict_multi_layer_perceptron, metric_multi_layer_perceptron],\n",
    "                       'decision_tree' : [predict_decision_tree, metric_decision_tree],\n",
    "                       'random_forest' : [predict_random_forest, metric_random_forest],\n",
    "                       'linear_regression' : [predict_linear_regression, metric_linear_regression],\n",
    "                       'logistic_regression' : [predict_logistic_regression, metric_logistic_regression]\n",
    "                      }\n",
    "    \n",
    "    #Computing the AUC and Predictions of all the base models on the cross validation data parallely.\n",
    "    auc_predict_cross_val = (Parallel(n_jobs = -1)(delayed(function)(data_X, data_Y, model)\n",
    "                                               for function, model in base_model_predict_function_list))\n",
    "    \n",
    "    #Building the list which will contain all the predictions of the base models and will also display the metric\n",
    "    #scores of the base models\n",
    "    for model in base_model_list:\n",
    "        \n",
    "        #Assigning the predictions and metrics computed for the respective base model\n",
    "        model_predict_metric[model] = auc_predict_cross_val[auc_predict_index][1],\\\n",
    "        auc_predict_cross_val[auc_predict_index][0]\n",
    "        auc_predict_index = auc_predict_index + 1\n",
    "        \n",
    "        if(model == 'multi_layer_perceptron'):\n",
    "            \n",
    "            #This is done only for multi layer perceptron because the predictions returned by the multi layer \n",
    "            #perceptron model is a list of list, the below piece of code converts this nested list into a single\n",
    "            #list\n",
    "            predict_list.append(np.asarray(sum(model_predict_metric[model][0].tolist(), [])))\n",
    "            \n",
    "        else:\n",
    "            \n",
    "            #The below list will contain all the predictions of the base models.\n",
    "            predict_list.append(model_predict_metric[model][0])\n",
    "        \n",
    "        #Printing the name of the base model and its corresponding metric score\n",
    "        print_metric(model,model_predict_metric[model][1])\n",
    "    \n",
    "    return [predict_list, data_X, data_Y]"
   ]
  },
  {
   "cell_type": "markdown",
   "metadata": {},
   "source": [
    "# Ensemble Classifier"
   ]
  },
  {
   "cell_type": "code",
   "execution_count": 30,
   "metadata": {},
   "outputs": [],
   "source": [
    "#Training the second level models parallely\n",
    "def train_ensemble_models(stack_model_list = [], stack_parameters_list = [], blend_model_list = [],\\\n",
    "                              blend_parameters_list = [], perform_weighted_average = False, weights_list = None,\n",
    "                          save_models = False):\n",
    "    \n",
    "    #print('\\nTRAINING ENSEMBLE MODELS\\n')\n",
    "    \n",
    "    global no_of_ensemble_models\n",
    "    \n",
    "    #This list will contain the names of the models/algorithms that have been used as second level models\n",
    "    #This list will be used later in the testing phase for identifying which model belongs to which ensemble\n",
    "    #(stacking or blending), hence the use of dictionaries as elements of the list\n",
    "    #Analogous to the base_model_list\n",
    "    global ensmeble_model_list\n",
    "    ensmeble_model_list = list()\n",
    "    \n",
    "    train_stack_model_list = list() \n",
    "    predict_stack_model_list = list()\n",
    "    train_blend_model_list = list()\n",
    "    predict_blend_model_list = list()\n",
    "    \n",
    "    #The list will be used to train the ensemble models, while using joblib's parallel\n",
    "    train_second_level_models = list() \n",
    "    \n",
    "    #Stacking will not be done if user does not enter the list of models he wants to use for stacking\n",
    "    if(stack_model_list != []):\n",
    "        \n",
    "        #Appending a dictionary that contians key-Stacking and its values/elements are the names of the \n",
    "        #models/algorithms that are used for performing the stacking procedure, this is done so that it will be easy\n",
    "        #to identify the models belonging to the stacking ensemble\n",
    "        ensmeble_model_list.append({'Stacking' : stack_model_list})\n",
    "        \n",
    "        #We get the list of stacked model training functions and predict functions. The elements of the two   \n",
    "        #lists are tuples that have(base model training function,model parameters,train_stack function),\n",
    "        #(base model predict functions,predict_stack function) respectively\n",
    "        [train_stack_model_list,predict_stack_model_list] = construct_model_parameter_list(stack_model_list,\\\n",
    "                                                                                           stack_parameters_list,\n",
    "                                                                                           stack=True)\n",
    "        \n",
    "    #Blending will not be done if user does not enter the list of models he wants to use for blending\n",
    "    if(blend_model_list != []):\n",
    "        \n",
    "        #Appending a dictionary that contians key-Blending and its values/elements are the names of the \n",
    "        #models/algorithms that are used for performing the blending procedure, this is done so that it will be easy\n",
    "        #to identify the models belonging to the blending ensemble\n",
    "        ensmeble_model_list.append({'Blending' : blend_model_list})\n",
    "\n",
    "        #We get the list of blending model training functions and predict functions. The elements of the two   \n",
    "        #lists are tuples that have(base model training function,model parameters,train_blend function),\n",
    "        #(base model predict functions,predict_blend function) respectively\n",
    "        [train_blend_model_list,predict_blend_model_list] = construct_model_parameter_list(blend_model_list,\\\n",
    "                                                                                           blend_parameters_list,\\\n",
    "                                                                                           blend=True)\n",
    "        \n",
    "    #The new list contains either the stacked models or blending models or both or remain empty depending on what \n",
    "    #the user has decided to use\n",
    "    train_second_level_models = train_stack_model_list + train_blend_model_list\n",
    "    \n",
    "   \n",
    "\n",
    "        \n",
    "    no_of_ensemble_models = len(train_second_level_models)\n",
    "\n",
    "    #If weighted average is performed, the last element of models will contain the metric score and weighted average\n",
    "    #predictions, and not a model object. So we use the last element in different ways compared to the other model\n",
    "    #objects\n",
    "    \n",
    "    #Training the ensmeble models parallely \n",
    "    models = Parallel(n_jobs = -1)(delayed(function)(stack_X, stack_Y, model, model_parameter)\\\n",
    "                                        for model, model_parameter, function in train_second_level_models)\n",
    "    \n",
    "    \n",
    "    #A list with elements as tuples containing((base model predict function,predict_stack or predict_blend functions)\n",
    "    #,and its respective base model object) is returned. This list is used in the next step in the   \n",
    "    #predict_ensemble_models function, the list will be used in\n",
    "    #joblibs parallel module/function to compute the predictions and metric score of the ensemble models\n",
    "    #Appended in the following manner so it can be used in joblib's parallel module/function\n",
    "    #Analogous to base_model_predict_function_list\n",
    "    global ensmeble_model_predict_function_list\n",
    "    ensmeble_model_predict_function_list = construct_model_predict_function_list(stack_model_list + blend_model_list,\\\n",
    "                                                                                 models, predict_stack_model_list \n",
    "                                                                                 + predict_blend_model_list)\n",
    "    \n",
    "   \n",
    "        "
   ]
  },
  {
   "cell_type": "code",
   "execution_count": 31,
   "metadata": {},
   "outputs": [],
   "source": [
    "def harmony_search(predictions, index,harmony_matrix):\n",
    "    \n",
    "    #global harmony_matrix\n",
    "    prediction_list = list()\n",
    "    k = 0\n",
    "    prediction_list=predictions[:]\n",
    "    for j in range(len(harmony_matrix[index])):\n",
    "    \n",
    "        if(harmony_matrix[index][j]==0):\n",
    "            del prediction_list[k]\n",
    "        else:\n",
    "            k = k + 1\n",
    "    return prediction_list"
   ]
  },
  {
   "cell_type": "code",
   "execution_count": 32,
   "metadata": {},
   "outputs": [],
   "source": [
    "def harmony_search_adjust(index,harmony_matrix):\n",
    "    \n",
    "    #global harmony_matrix\n",
    "    global hmcr\n",
    "    global par\n",
    "    \n",
    "    for  i in range (len(harmony_matrix[index])):\n",
    "        \n",
    "        if(random.uniform(0,1)>hmcr):\n",
    "        \n",
    "            harmony_matrix[index][i] = harmony_matrix[random.randint(0,harmony_matrix.shape[0]-1)][i]\n",
    "            if(random.uniform(0,1) > par):\n",
    "                harmony_matrix[index][i] = (harmony_matrix[index][i] + 1)%2\n",
    "                \n",
    "        else:\n",
    "        \n",
    "            harmony_matrix[index][i] = random.randint(0,1)\n",
    "            \n",
    "    if(sum(harmony_matrix[index])==0):\n",
    "        harmony_matrix = np.delete(harmony_matrix, (index), axis=0)\n",
    "        \n",
    "    return harmony_matrix"
   ]
  },
  {
   "cell_type": "markdown",
   "metadata": {},
   "source": [
    "# Predictions: Ensemble Classfier"
   ]
  },
  {
   "cell_type": "code",
   "execution_count": 33,
   "metadata": {},
   "outputs": [],
   "source": [
    "def predict_ensemble_models(data_X, data_Y):\n",
    "    \n",
    "    #print('\\nTESTING ENSEMBLE MODELS\\n')\n",
    "\n",
    "    metric_linear_regression = list()\n",
    "    metric_logistic_regression = list()\n",
    "    metric_decision_tree = list()\n",
    "    metric_random_forest = list()\n",
    "    #metric_multi_layer_perceptron = list()\n",
    "    metric_weighted_average = list()\n",
    "    metric_stacking = list()\n",
    "    metric_blending = list()\n",
    "    \n",
    "    auc_predict_index = 0\n",
    "    \n",
    "    #Initializing a list which will contain the predictions of the base models and the variables that will\n",
    "    #calculate the metric score\n",
    "    model_metric = {#'multi_layer_perceptron' : [metric_multi_layer_perceptron],\n",
    "                       'decision_tree' : [metric_decision_tree],\n",
    "                       'random_forest' : [metric_random_forest],\n",
    "                       'linear_regression' : [metric_linear_regression],\n",
    "                       'logistic_regression' : [metric_logistic_regression]\n",
    "                      }\n",
    "    \n",
    "    #Computing the AUC and Predictions of all the ensmeble models on the test data parallely.\n",
    "    auc_predict_cross_val = (Parallel(n_jobs = -1)(delayed(function[1])(data_X, data_Y, function[0],model)\n",
    "                                               for function, model in ensmeble_model_predict_function_list))\n",
    "    \n",
    "    #ensemble_model_list is a list defined in the train_ensemble_models function, each element of the lsit is a\n",
    "    #dictionary, that contains the name of the ensembling technique (key) and the models assocaited with it(values)\n",
    "    \n",
    "    #So the first for loop gives the dictionary\n",
    "    for ensemble_models in ensmeble_model_list:\n",
    "    \n",
    "        #This for gives the key value pair, key being the name of the ensembling technique, value being a list\n",
    "        #of the models used for that ensemble\n",
    "        for ensemble,models in ensemble_models.items():\n",
    "            \n",
    "            #This for loop gives the iterates through the models present in the models list and asssigns \n",
    "            #the metric score and prints it\n",
    "            for model in models:\n",
    "                \n",
    "                #Assigning the predictions and metrics computed for the respective ensemble model\n",
    "                model_metric[model] = auc_predict_cross_val[auc_predict_index][0]\n",
    "                auc_predict_index = auc_predict_index + 1\n",
    "        \n",
    "                #Printing the name of the ensmeble technique and its model and its corresponding metric score\n",
    "                print_metric(ensemble + \" \" + model,model_metric[model])\n",
    "                return model_metric[model]"
   ]
  },
  {
   "cell_type": "code",
   "execution_count": 34,
   "metadata": {},
   "outputs": [],
   "source": [
    "def test_models(test_data):\n",
    "    \n",
    "    \n",
    "    #Training the base models, and calculating AUC on the test data.\n",
    "    #Selecting the data (Test Data)\n",
    "    test_Y = test_data[target_label]\n",
    "    test_X = test_data.drop([target_label],axis=1)\n",
    "    \n",
    "    prediction_list = predict_base_models(test_X,test_Y,mode='test')\n",
    "    return prediction_list"
   ]
  },
  {
   "cell_type": "code",
   "execution_count": 35,
   "metadata": {},
   "outputs": [],
   "source": [
    "def test_models_accuracy():\n",
    "    \n",
    "    accuracy = predict_ensemble_models(test_stack_X,test_stack_Y)\n",
    "    return accuracy"
   ]
  },
  {
   "cell_type": "code",
   "execution_count": 36,
   "metadata": {},
   "outputs": [],
   "source": [
    "def print_metric(model,metric_score):\n",
    "    a = 2\n",
    "    #Printing the metric score for the corresponding model.\n",
    "    #print (model,'\\n',metric_score)"
   ]
  },
  {
   "cell_type": "code",
   "execution_count": 37,
   "metadata": {},
   "outputs": [],
   "source": [
    "def final_harmony_search(models,params):\n",
    "    \n",
    "    predict_list,data_X,data_Y = train_base_models(models,params)\n",
    "    second_level_train_data(predict_list, data_X, data_Y)\n",
    "    train_ensemble_models(['logistic_regression'],[param_l2])\n",
    "    test_predictions,test_data_X,test_data_Y = test_models(data_test)\n",
    "    second_level_test_data(test_predictions, test_data_X, test_data_Y)\n",
    "    accuracy = test_models_accuracy()\n",
    "    return accuracy"
   ]
  },
  {
   "cell_type": "code",
   "execution_count": 38,
   "metadata": {},
   "outputs": [],
   "source": [
    "def get_new_models(init_models,params,harmony_matrix):\n",
    "    j=0\n",
    "    new_models = list()\n",
    "    new_params = list()\n",
    "    models = init_models[:]\n",
    "    for i in harmony_matrix[0]:\n",
    "        models[j]=models[j]*i \n",
    "        if(models[j]!=''):\n",
    "            new_models.append(models[j])\n",
    "            new_params.append(params[j])\n",
    "        j=j+1\n",
    "    return [new_models,new_params]"
   ]
  },
  {
   "cell_type": "code",
   "execution_count": 39,
   "metadata": {},
   "outputs": [],
   "source": [
    "def hs(harmony_matrix):\n",
    "    \n",
    "    global number_of_iterations\n",
    "    \n",
    "    for k in range(number_of_iterations):\n",
    "        worst_index = 0\n",
    "        worst_accuracy = 100\n",
    "        for i in range(harmony_matrix.shape[0]):\n",
    "\n",
    "            prediction_list = harmony_search(predict_list, i,harmony_matrix)\n",
    "            second_level_train_data(prediction_list, data_X, data_Y)\n",
    "            train_ensemble_models(['logistic_regression'],[param_l2])\n",
    "            test_predictions,test_data_X,test_data_Y = test_models(data_test)\n",
    "            test_predictions_list = harmony_search(test_predictions, i,harmony_matrix)\n",
    "            second_level_test_data(test_predictions_list, test_data_X, test_data_Y)\n",
    "            accuracy = test_models_accuracy()\n",
    "\n",
    "            if(accuracy < worst_accuracy):\n",
    "                worst_accuracy = accuracy\n",
    "                worst_index = i\n",
    "        \n",
    "    harmony_matrix = harmony_search_adjust(worst_index,harmony_matrix)\n",
    "\n",
    "    \n",
    "    print(\"Final Harmony Matrix\")\n",
    "    print(harmony_matrix)    \n",
    "    prediction_list = harmony_search(predict_list, 0,harmony_matrix)\n",
    "    second_level_train_data(prediction_list, data_X, data_Y)\n",
    "    train_ensemble_models(['logistic_regression'],[param_l2])\n",
    "    test_predictions,test_data_X,test_data_Y = test_models(data_test)\n",
    "    test_predictions_list = harmony_search(test_predictions, 0,harmony_matrix)\n",
    "    second_level_test_data(test_predictions_list, test_data_X, test_data_Y)\n",
    "    best_accuracy = test_models_accuracy()\n",
    "\n",
    "    hmsize = [1]*(harmony_matrix.shape[0]-1)\n",
    "\n",
    "    for i in hmsize:\n",
    "\n",
    "        prediction_list = harmony_search(predict_list, i,harmony_matrix)\n",
    "        second_level_train_data(prediction_list, data_X, data_Y)\n",
    "        train_ensemble_models(['logistic_regression'],[param_l2])\n",
    "        test_predictions,test_data_X,test_data_Y = test_models(data_test)\n",
    "        test_predictions_list = harmony_search(test_predictions, i,harmony_matrix)\n",
    "        second_level_test_data(test_predictions_list, test_data_X, test_data_Y)\n",
    "        accuracy = test_models_accuracy()\n",
    "\n",
    "        if(accuracy > best_accuracy):\n",
    "            best_accuracy = accuracy\n",
    "            harmony_matrix = np.delete(harmony_matrix, (i-1), axis=0)\n",
    "        else:\n",
    "            harmony_matrix = np.delete(harmony_matrix, (i), axis=0)\n",
    "\n",
    "    print('Optimal Harmony Matrix')\n",
    "    print(harmony_matrix)\n",
    "    return harmony_matrix"
   ]
  },
  {
   "cell_type": "markdown",
   "metadata": {},
   "source": [
    "# IMPLEMENTATION : BANK DATASET"
   ]
  },
  {
   "cell_type": "markdown",
   "metadata": {},
   "source": [
    "<h3>Implementation Details: <br>\n",
    "    \n",
    "• Base Classifiers: Decision Trees, Logistic Regression,Linear Regression, Random Forest <br>  \n",
    "• Ensemble Classifier: Stacking (Logistic Regression) <br>\n",
    "• Evaluation Metric: roc auc score <br>\n",
    "• Harmony Memory Size: 7 <br>\n",
    "• Harmony Memory Considering Rate: 0.7<br>\n",
    "• Pitch Adjustment Rate: 0.4 <br>\n",
    "    \n",
    "Bank Dataset: <br>\n",
    "• 41189 Instances<br>\n",
    "• 21 Features **<br>"
   ]
  },
  {
   "cell_type": "code",
   "execution_count": 40,
   "metadata": {},
   "outputs": [],
   "source": [
    "Bank = \"https://raw.githubusercontent.com/shubham414/INFO-7390-ADS/main/Final%20Project%20-%20Recursive%20Harmony%20Search%20Based%20CER/Data%20and%20Result/bank-additional-full.csv\"\n",
    "Data = pd.read_csv(Bank,delimiter=';',header=0)\n",
    "number_of_iterations = 10\n",
    "number_of_rows = 7 # Harmony Memory Size\n",
    "hmcr = 0.7 #Harmony Memory Considering Rate\n",
    "par = 0.4 #Pitch Adjustment Rate"
   ]
  },
  {
   "cell_type": "code",
   "execution_count": 41,
   "metadata": {},
   "outputs": [
    {
     "name": "stderr",
     "output_type": "stream",
     "text": [
      "/usr/local/lib/python3.7/site-packages/category_encoders/utils.py:21: FutureWarning: is_categorical is deprecated and will be removed in a future version.  Use is_categorical_dtype instead\n",
      "  elif pd.api.types.is_categorical(cols):\n"
     ]
    }
   ],
   "source": [
    "data_test = data_import(Data,label_output='y')\n",
    "Data['y']=Data['y']-1\n",
    "data_test['y']=data_test['y']-1\n",
    "metric_set('roc_auc_score')\n",
    "param_dt = parameter_set_decision_tree(max_depth = [6])\n",
    "param_rf = parameter_set_random_forest()\n",
    "param_r = parameter_set_random_forest(n_estimators=[20])\n",
    "param_lr = parameter_set_linear_regression()\n",
    "param_l2 = parameter_set_logistic_regression()\n",
    "param_l = parameter_set_logistic_regression(C=[0.5])\n",
    "param_l1 = parameter_set_logistic_regression(penalty = ['l1'])\n",
    "param_d = parameter_set_decision_tree()"
   ]
  },
  {
   "cell_type": "markdown",
   "metadata": {},
   "source": [
    "## Number of models - 8"
   ]
  },
  {
   "cell_type": "code",
   "execution_count": 42,
   "metadata": {},
   "outputs": [],
   "source": [
    "#Initializing 8 models with parameters\n",
    "init_models_1 = ['decision_tree','random_forest','linear_regression','logistic_regression','logistic_regression',\\\n",
    "              'random_forest','logistic_regression','decision_tree']\n",
    "init_params_1 = [param_dt, param_rf,param_lr, param_l2, param_l1,param_r,param_l,param_d]"
   ]
  },
  {
   "cell_type": "code",
   "execution_count": 43,
   "metadata": {},
   "outputs": [],
   "source": [
    "#Step 1: Initializing  matrices \n",
    "harmony_matrix_1 = np.random.randint(2, size=(number_of_rows, len(init_models_1)))\n",
    "harmony_matrix_2 = np.random.randint(2, size=(number_of_rows, len(init_models_1)))\n",
    "harmony_matrix_3 = np.random.randint(2, size=(number_of_rows, len(init_models_1)))\n",
    "harmony_matrix_4 = np.random.randint(2, size=(number_of_rows, len(init_models_1)))\n",
    "harmony_matrix_5 = np.random.randint(2, size=(number_of_rows, len(init_models_1)))\n",
    "harmony_matrix_6 = np.random.randint(2, size=(number_of_rows, len(init_models_1)))\n",
    "harmony_matrix_7 = np.random.randint(2, size=(number_of_rows, len(init_models_1)))\n",
    "harmony_matrix_8 = np.random.randint(2, size=(number_of_rows, len(init_models_1)))"
   ]
  },
  {
   "cell_type": "code",
   "execution_count": 44,
   "metadata": {
    "scrolled": true
   },
   "outputs": [
    {
     "name": "stdout",
     "output_type": "stream",
     "text": [
      "Harmony Matrix 1\n",
      "[[0 0 0 0 1 0 1 0]\n",
      " [1 0 0 0 1 1 0 0]\n",
      " [1 0 1 1 1 0 0 0]\n",
      " [1 0 0 1 1 1 0 1]\n",
      " [0 1 1 0 0 0 0 1]\n",
      " [0 1 1 0 0 1 1 0]\n",
      " [1 0 0 1 0 1 1 0]]\n",
      "Harmony Matrix 2\n",
      "[[1 1 0 1 1 1 0 0]\n",
      " [0 1 1 1 0 0 1 1]\n",
      " [0 1 1 0 0 1 0 0]\n",
      " [0 1 0 0 0 0 0 0]\n",
      " [1 0 1 0 1 1 0 1]\n",
      " [1 0 1 0 0 0 1 0]\n",
      " [0 0 1 1 0 1 0 1]]\n",
      "Harmony Matrix 3\n",
      "[[0 0 1 1 1 0 1 1]\n",
      " [0 0 1 1 0 1 1 1]\n",
      " [0 0 1 1 0 1 1 1]\n",
      " [0 0 0 1 0 0 1 1]\n",
      " [1 0 0 1 1 1 0 1]\n",
      " [0 0 0 0 1 0 0 1]\n",
      " [0 0 1 1 0 1 1 1]]\n",
      "Harmony Matrix 4\n",
      "[[1 1 1 0 0 1 1 0]\n",
      " [0 1 0 0 1 1 1 1]\n",
      " [1 0 0 0 0 1 1 1]\n",
      " [0 1 1 0 1 1 0 1]\n",
      " [0 0 0 0 0 0 0 1]\n",
      " [0 1 0 1 1 0 0 0]\n",
      " [1 1 1 1 1 1 0 1]]\n",
      "Harmony Matrix 5\n",
      "[[1 1 1 1 0 1 1 1]\n",
      " [0 0 1 1 0 1 1 0]\n",
      " [0 0 1 1 1 1 0 1]\n",
      " [1 1 1 1 0 0 1 1]\n",
      " [1 1 1 0 1 0 1 0]\n",
      " [0 0 1 0 0 1 1 1]\n",
      " [0 0 0 1 0 1 0 1]]\n",
      "Harmony Matrix 6\n",
      "[[0 1 0 1 0 0 1 1]\n",
      " [1 0 0 0 0 0 0 1]\n",
      " [1 1 0 1 0 0 1 0]\n",
      " [0 1 1 1 1 1 1 1]\n",
      " [0 1 1 1 0 0 0 0]\n",
      " [0 1 1 1 0 0 1 0]\n",
      " [0 0 1 0 1 1 1 1]]\n",
      "Harmony Matrix 7\n",
      "[[0 0 1 0 0 1 1 1]\n",
      " [1 1 0 1 1 0 1 0]\n",
      " [0 0 1 0 1 1 1 0]\n",
      " [0 1 0 0 0 1 0 0]\n",
      " [1 1 0 1 0 1 0 0]\n",
      " [0 1 1 0 0 0 0 0]\n",
      " [0 0 1 0 1 1 0 0]]\n",
      "Harmony Matrix 8\n",
      "[[0 1 0 0 0 1 0 0]\n",
      " [1 1 1 1 1 0 1 1]\n",
      " [0 1 1 0 1 0 0 1]\n",
      " [1 1 0 0 0 1 1 0]\n",
      " [0 1 1 0 1 1 1 1]\n",
      " [0 0 1 1 1 0 1 1]\n",
      " [1 0 0 1 0 1 0 0]]\n"
     ]
    }
   ],
   "source": [
    "print(\"Harmony Matrix 1\")\n",
    "print(harmony_matrix_1)\n",
    "print(\"Harmony Matrix 2\")\n",
    "print(harmony_matrix_2)\n",
    "print(\"Harmony Matrix 3\")\n",
    "print(harmony_matrix_3)\n",
    "print(\"Harmony Matrix 4\")\n",
    "print(harmony_matrix_4)\n",
    "print(\"Harmony Matrix 5\")\n",
    "print(harmony_matrix_5)\n",
    "print(\"Harmony Matrix 6\")\n",
    "print(harmony_matrix_6)\n",
    "print(\"Harmony Matrix 7\")\n",
    "print(harmony_matrix_7)\n",
    "print(\"Harmony Matrix 8\")\n",
    "print(harmony_matrix_8)"
   ]
  },
  {
   "cell_type": "code",
   "execution_count": 45,
   "metadata": {
    "scrolled": true
   },
   "outputs": [
    {
     "name": "stdout",
     "output_type": "stream",
     "text": [
      "Final Harmony Matrix\n",
      "[[0 1 0 0 0 0 0 1]\n",
      " [1 0 0 0 1 1 0 0]\n",
      " [1 0 1 1 1 0 0 0]\n",
      " [1 0 0 1 1 1 0 1]\n",
      " [0 1 1 0 0 0 0 1]\n",
      " [0 1 1 0 0 1 1 0]\n",
      " [1 0 0 1 0 1 1 0]]\n",
      "Optimal Harmony Matrix\n",
      "[[1 0 0 1 1 1 0 1]]\n",
      "Final Harmony Matrix\n",
      "[[1 1 0 1 1 1 0 0]\n",
      " [0 1 1 1 0 0 1 1]\n",
      " [0 1 1 0 0 1 0 0]\n",
      " [1 1 1 1 1 1 1 0]\n",
      " [1 0 1 0 1 1 0 1]\n",
      " [1 0 1 0 0 0 1 0]\n",
      " [0 0 1 1 0 1 0 1]]\n",
      "Optimal Harmony Matrix\n",
      "[[1 1 0 1 1 1 0 0]]\n",
      "Final Harmony Matrix\n",
      "[[0 0 1 1 1 0 1 1]\n",
      " [0 0 1 1 0 1 1 1]\n",
      " [0 0 1 1 0 1 1 1]\n",
      " [0 0 0 1 0 0 1 1]\n",
      " [1 0 0 1 1 1 0 1]\n",
      " [1 0 0 0 0 1 1 0]\n",
      " [0 0 1 1 0 1 1 1]]\n",
      "Optimal Harmony Matrix\n",
      "[[1 0 0 1 1 1 0 1]]\n",
      "Final Harmony Matrix\n",
      "[[1 1 1 0 0 1 1 0]\n",
      " [0 1 0 0 1 1 1 1]\n",
      " [1 0 0 0 0 1 1 1]\n",
      " [0 1 1 0 1 1 0 1]\n",
      " [1 1 1 0 1 1 1 1]\n",
      " [0 1 0 1 1 0 0 0]\n",
      " [1 1 1 1 1 1 0 1]]\n",
      "Optimal Harmony Matrix\n",
      "[[1 0 0 0 0 1 1 1]]\n",
      "Final Harmony Matrix\n",
      "[[1 1 1 1 0 1 1 1]\n",
      " [0 1 1 1 0 1 0 0]\n",
      " [0 0 1 1 1 1 0 1]\n",
      " [1 1 1 1 0 0 1 1]\n",
      " [1 1 1 0 1 0 1 0]\n",
      " [0 0 1 0 0 1 1 1]\n",
      " [0 0 0 1 0 1 0 1]]\n",
      "Optimal Harmony Matrix\n",
      "[[1 1 1 1 0 1 1 1]]\n",
      "Final Harmony Matrix\n",
      "[[0 1 0 1 0 0 1 1]\n",
      " [1 0 1 1 1 1 0 0]\n",
      " [1 1 0 1 0 0 1 0]\n",
      " [0 1 1 1 1 1 1 1]\n",
      " [0 1 1 1 0 0 0 0]\n",
      " [0 1 1 1 0 0 1 0]\n",
      " [0 0 1 0 1 1 1 1]]\n",
      "Optimal Harmony Matrix\n",
      "[[0 1 1 1 1 1 1 1]]\n",
      "Final Harmony Matrix\n",
      "[[0 0 1 0 0 1 1 1]\n",
      " [1 1 0 1 1 0 1 0]\n",
      " [0 0 1 0 1 1 1 0]\n",
      " [0 1 1 0 1 1 0 0]\n",
      " [1 1 0 1 0 1 0 0]\n",
      " [0 1 1 0 0 0 0 0]\n",
      " [0 0 1 0 1 1 0 0]]\n",
      "Optimal Harmony Matrix\n",
      "[[1 1 0 1 0 1 0 0]]\n",
      "Final Harmony Matrix\n",
      "[[0 1 0 0 0 1 0 0]\n",
      " [1 1 1 1 1 0 1 1]\n",
      " [0 1 1 0 1 0 0 1]\n",
      " [1 1 0 0 0 1 1 0]\n",
      " [0 1 1 0 1 1 1 1]\n",
      " [1 1 0 0 0 1 1 0]\n",
      " [1 0 0 1 0 1 0 0]]\n",
      "Optimal Harmony Matrix\n",
      "[[1 1 0 0 0 1 1 0]]\n"
     ]
    }
   ],
   "source": [
    "# Step 2: performing harmony search on each individual matrix.\n",
    "# Step 3: The final matrices that are obtained after performing harmony search on the matrices in step 2 will be evaluated.\n",
    "# Step 4: Identifying the optimal matrices for each individual matrix obtained from step 3.\n",
    "\n",
    "predict_list,data_X,data_Y = train_base_models(init_models_1,init_params_1)\n",
    "\n",
    "harmony_matrix_1 = hs(harmony_matrix_1)\n",
    "harmony_matrix_2 = hs(harmony_matrix_2)\n",
    "harmony_matrix_3 = hs(harmony_matrix_3)\n",
    "harmony_matrix_4 = hs(harmony_matrix_4)\n",
    "harmony_matrix_5 = hs(harmony_matrix_5)\n",
    "harmony_matrix_6 = hs(harmony_matrix_6)\n",
    "harmony_matrix_7 = hs(harmony_matrix_7)\n",
    "harmony_matrix_8 = hs(harmony_matrix_8)"
   ]
  },
  {
   "cell_type": "code",
   "execution_count": 46,
   "metadata": {
    "scrolled": true
   },
   "outputs": [
    {
     "name": "stdout",
     "output_type": "stream",
     "text": [
      "Recursive Harmony Matrix\n",
      "[[1 0 0 1 1 1 0 1]\n",
      " [1 1 0 1 1 1 0 0]\n",
      " [1 0 0 1 1 1 0 1]\n",
      " [1 0 0 0 0 1 1 1]\n",
      " [1 1 1 1 0 1 1 1]\n",
      " [0 1 1 1 1 1 1 1]\n",
      " [1 1 0 1 0 1 0 0]\n",
      " [1 1 0 0 0 1 1 0]]\n",
      "Final Harmony Matrix\n",
      "[[1 0 0 1 1 1 0 1]\n",
      " [1 1 0 1 1 1 0 0]\n",
      " [1 0 0 1 1 1 0 1]\n",
      " [1 0 0 0 0 1 1 1]\n",
      " [1 1 1 1 0 1 1 1]\n",
      " [1 0 1 0 0 0 1 1]\n",
      " [1 1 0 1 0 1 0 0]\n",
      " [1 1 0 0 0 1 1 0]]\n",
      "Optimal Harmony Matrix\n",
      "[[1 1 0 1 1 1 0 0]]\n"
     ]
    }
   ],
   "source": [
    "# Step 5:Combined the optimal matrices into a new matrix and performed harmony search on the new matrix to \n",
    "# obtain the final harmony matrix, which is then evaluated to obtain the final optimal matrix.\n",
    "\n",
    "harmony_matrix_rec = np.concatenate((harmony_matrix_1,harmony_matrix_2,harmony_matrix_3,harmony_matrix_4,\\\n",
    "                                    harmony_matrix_5,harmony_matrix_6,harmony_matrix_7,harmony_matrix_8))\n",
    "print(\"Recursive Harmony Matrix\")\n",
    "print(harmony_matrix_rec)\n",
    "harmony_matrix_rec = hs(harmony_matrix_rec)                    "
   ]
  },
  {
   "cell_type": "markdown",
   "metadata": {},
   "source": [
    "The final optimal matrix obtained at the end of step 5 is the subset of classifiers that will be used in the ensemble classifiers."
   ]
  },
  {
   "cell_type": "markdown",
   "metadata": {},
   "source": [
    "### In simple words, As you can see here, recursive harmony search algorithm gave us optimal harmony matrix as [[0,0,1,1,0,1,1,0]] where 0 and 1 represent if we have considered the particular model or base class classifier. If you remember, we initialized 8 models here. Out of which, according to optimal harmony matrix, 3rd, 4th, 6th and 7th can achieve same accuracy with less models and cpu runtime."
   ]
  },
  {
   "cell_type": "code",
   "execution_count": 48,
   "metadata": {
    "scrolled": true
   },
   "outputs": [
    {
     "name": "stdout",
     "output_type": "stream",
     "text": [
      "time 94.00571298599243\n",
      "0.9413353486275559\n"
     ]
    }
   ],
   "source": [
    "#without ensemble classifer reduction\n",
    "import time\n",
    "start = time.time()\n",
    "a = final_harmony_search(init_models_1,init_params_1)\n",
    "print(\"time\",end - start)\n",
    "print(a)"
   ]
  },
  {
   "cell_type": "code",
   "execution_count": 49,
   "metadata": {},
   "outputs": [
    {
     "data": {
      "text/plain": [
       "[0.9413353486275559]"
      ]
     },
     "execution_count": 49,
     "metadata": {},
     "output_type": "execute_result"
    }
   ],
   "source": [
    "accu=[]\n",
    "accu.append(a)\n",
    "accu"
   ]
  },
  {
   "cell_type": "code",
   "execution_count": 50,
   "metadata": {},
   "outputs": [],
   "source": [
    "new_models_rec,new_params_rec = get_new_models(init_models_1,init_params_1,harmony_matrix_rec)"
   ]
  },
  {
   "cell_type": "code",
   "execution_count": 52,
   "metadata": {
    "scrolled": true
   },
   "outputs": [
    {
     "name": "stdout",
     "output_type": "stream",
     "text": [
      "time 77.79203200340271\n",
      "AUC SCORE: 0.9424847083981948\n"
     ]
    }
   ],
   "source": [
    "#with ensemble classifer reduction\n",
    "import time\n",
    "start = time.time()\n",
    "b = final_harmony_search(new_models_rec,new_params_rec)\n",
    "end = time.time()\n",
    "print(\"time\",end - start)\n",
    "print(\"AUC SCORE:\",b)"
   ]
  },
  {
   "cell_type": "code",
   "execution_count": 53,
   "metadata": {},
   "outputs": [
    {
     "data": {
      "text/plain": [
       "[0.9424847083981948]"
      ]
     },
     "execution_count": 53,
     "metadata": {},
     "output_type": "execute_result"
    }
   ],
   "source": [
    "accu_2=[]\n",
    "accu_2.append(b)\n",
    "accu_2"
   ]
  },
  {
   "cell_type": "markdown",
   "metadata": {},
   "source": [
    "## Number of Models 30"
   ]
  },
  {
   "cell_type": "code",
   "execution_count": 54,
   "metadata": {},
   "outputs": [],
   "source": [
    "init_models_2 = ['decision_tree','random_forest','linear_regression','logistic_regression','logistic_regression',\\\n",
    "              'random_forest','logistic_regression','decision_tree','linear_regression', 'random_forest', \\\n",
    "               'linear_regression','decision_tree','logistic_regression','decision_tree','random_forest',\\\n",
    "               'decision_tree', 'logistic_regression','linear_regression','random_forest','decision_tree', \\\n",
    "                'random_forest','linear_regression','logistic_regression','logistic_regression','random_forest',\\\n",
    "               'linear_regression','decision_tree','logistic_regression','decision_tree','random_forest'\n",
    "              ]\n",
    "init_params_2 = [param_dt, param_rf,param_lr, param_l2, param_l1,\n",
    "               param_r,param_l,param_d,param_lr,param_rf,\n",
    "               param_lr, param_dt,param_l,param_d,param_r,\n",
    "               param_dt, param_l2,param_lr,param_rf,param_d,\n",
    "               param_r,param_lr,param_l2, param_l,param_rf,\n",
    "               param_lr,param_dt,param_l2,param_dt,param_r\n",
    "              ]"
   ]
  },
  {
   "cell_type": "code",
   "execution_count": 55,
   "metadata": {},
   "outputs": [
    {
     "data": {
      "text/plain": [
       "30"
      ]
     },
     "execution_count": 55,
     "metadata": {},
     "output_type": "execute_result"
    }
   ],
   "source": [
    "len(init_models_2)"
   ]
  },
  {
   "cell_type": "code",
   "execution_count": 56,
   "metadata": {},
   "outputs": [],
   "source": [
    "harmony_matrix_1 = np.random.randint(2, size=(number_of_rows, len(init_models_2)))\n",
    "harmony_matrix_2 = np.random.randint(2, size=(number_of_rows, len(init_models_2)))\n",
    "harmony_matrix_3 = np.random.randint(2, size=(number_of_rows, len(init_models_2)))\n",
    "harmony_matrix_4 = np.random.randint(2, size=(number_of_rows, len(init_models_2)))\n",
    "harmony_matrix_5 = np.random.randint(2, size=(number_of_rows, len(init_models_2)))\n",
    "harmony_matrix_6 = np.random.randint(2, size=(number_of_rows, len(init_models_2)))\n",
    "harmony_matrix_7 = np.random.randint(2, size=(number_of_rows, len(init_models_2)))\n",
    "harmony_matrix_8 = np.random.randint(2, size=(number_of_rows, len(init_models_2)))"
   ]
  },
  {
   "cell_type": "code",
   "execution_count": 57,
   "metadata": {
    "scrolled": true
   },
   "outputs": [
    {
     "name": "stdout",
     "output_type": "stream",
     "text": [
      "Harmony Matrix 1\n",
      "[[1 0 1 0 0 1 1 0 1 0 1 0 0 1 0 1 0 1 0 0 0 0 1 1 1 1 1 1 0 0]\n",
      " [0 1 1 0 1 0 0 0 1 0 1 0 1 1 1 0 1 0 0 0 1 1 1 1 0 1 1 1 0 0]\n",
      " [1 0 0 0 1 1 1 1 1 1 0 0 0 1 0 0 1 0 0 0 0 1 0 0 0 1 1 1 0 1]\n",
      " [0 0 0 0 1 0 0 1 1 0 0 0 1 1 1 1 1 0 1 0 1 1 1 0 0 1 0 0 1 0]\n",
      " [1 0 1 0 0 0 0 1 0 0 0 1 0 1 1 0 0 0 0 0 0 0 1 1 0 1 1 1 0 0]\n",
      " [0 1 1 0 0 0 0 0 1 1 0 1 0 1 1 1 1 1 1 1 0 0 0 1 1 1 1 1 1 1]\n",
      " [0 1 0 0 1 1 1 0 0 1 0 0 1 0 1 0 1 0 1 0 0 1 1 1 0 0 0 0 0 0]]\n",
      "Harmony Matrix 2\n",
      "[[0 0 0 0 0 0 1 0 0 1 1 0 0 0 0 1 0 0 1 0 0 0 1 0 1 0 1 1 0 1]\n",
      " [1 1 1 1 1 0 1 0 0 1 1 1 1 1 0 0 1 1 0 0 1 1 0 1 1 1 0 1 1 1]\n",
      " [1 1 1 1 0 0 1 0 1 0 1 1 1 0 1 1 0 1 1 0 0 1 1 1 0 0 0 0 1 0]\n",
      " [0 1 1 0 1 0 1 1 1 1 0 1 0 1 0 1 1 1 0 1 1 0 0 1 1 1 0 0 0 0]\n",
      " [0 0 0 1 0 1 0 0 0 1 1 0 1 0 1 1 1 0 0 1 1 1 0 1 1 1 0 1 0 1]\n",
      " [0 1 1 0 1 1 0 1 1 1 0 1 0 1 1 0 0 1 0 0 0 1 1 0 0 0 1 0 1 1]\n",
      " [0 1 1 0 1 0 1 0 1 0 1 0 0 1 0 1 1 1 0 1 0 0 0 1 0 1 1 0 0 1]]\n",
      "Harmony Matrix 3\n",
      "[[0 1 0 1 0 0 1 0 0 1 1 1 0 1 0 0 1 1 0 0 0 1 0 1 0 1 1 0 0 1]\n",
      " [1 1 0 1 1 0 0 1 0 0 0 0 0 1 0 1 1 0 0 0 1 0 1 1 1 1 1 0 0 0]\n",
      " [1 0 1 1 1 0 0 1 0 1 0 1 1 0 0 0 1 0 1 0 0 1 1 1 1 1 0 0 0 0]\n",
      " [0 1 1 0 1 0 0 0 0 1 0 1 1 1 1 0 1 1 0 1 0 0 1 1 0 0 0 1 0 1]\n",
      " [1 1 0 0 1 1 0 0 1 0 0 0 1 0 0 0 1 1 0 0 0 1 1 1 0 0 0 1 1 1]\n",
      " [0 0 1 0 0 0 0 1 1 0 1 1 1 0 0 0 1 1 1 1 0 1 1 1 0 1 1 0 0 0]\n",
      " [0 0 1 1 1 0 1 1 1 1 1 1 0 0 1 0 0 1 1 0 1 0 1 0 0 1 0 1 1 1]]\n",
      "Harmony Matrix 4\n",
      "[[1 1 1 1 1 0 1 0 0 1 1 1 0 0 1 0 1 1 1 0 0 1 0 0 0 0 0 1 0 0]\n",
      " [0 0 1 1 1 0 0 1 1 0 0 1 1 0 1 0 1 1 0 0 1 1 1 1 1 1 1 0 0 1]\n",
      " [0 0 0 1 1 1 0 1 1 1 0 1 0 1 0 0 1 0 1 0 1 1 0 0 1 1 1 1 1 0]\n",
      " [1 0 1 1 0 1 0 1 1 0 0 1 1 0 0 1 0 1 1 1 0 0 0 1 0 0 0 1 0 1]\n",
      " [1 0 1 1 0 0 1 1 1 1 1 0 1 1 0 0 0 1 1 1 0 0 1 0 1 0 1 0 1 0]\n",
      " [0 0 1 1 1 0 1 1 1 0 1 0 0 0 1 0 0 0 0 1 1 1 1 1 1 1 0 1 0 0]\n",
      " [1 1 0 0 1 0 1 0 1 0 1 0 1 1 1 0 0 1 1 0 0 1 1 1 1 1 0 1 0 1]]\n",
      "Harmony Matrix 5\n",
      "[[1 0 0 0 1 0 1 0 0 0 0 1 0 1 1 1 0 1 1 0 0 1 0 0 0 0 1 1 0 0]\n",
      " [1 1 1 0 0 1 1 1 1 0 0 1 0 0 1 1 0 0 1 0 0 1 0 1 0 0 1 0 1 0]\n",
      " [1 1 0 0 1 0 1 1 1 0 0 1 0 0 1 1 1 1 1 1 0 1 0 0 0 1 1 0 0 0]\n",
      " [1 0 1 1 1 0 0 0 0 1 1 1 1 0 0 0 1 0 1 1 0 1 0 1 1 1 0 1 0 0]\n",
      " [0 0 1 0 1 0 1 0 1 0 0 0 0 1 0 0 0 1 0 1 1 0 0 0 0 0 0 0 1 0]\n",
      " [1 0 0 1 0 0 0 1 1 1 0 0 0 0 0 0 0 1 1 1 1 1 1 0 1 0 1 1 0 1]\n",
      " [1 1 0 0 1 1 1 1 1 0 1 1 1 0 0 1 0 0 1 1 0 1 1 0 0 0 1 0 1 1]]\n",
      "Harmony Matrix 6\n",
      "[[0 0 1 1 1 1 0 0 1 1 0 0 0 0 0 1 0 1 0 0 0 0 0 0 0 1 1 0 1 1]\n",
      " [0 0 0 1 0 1 0 0 0 1 0 1 1 0 1 0 1 1 1 1 0 1 0 0 1 0 1 0 0 0]\n",
      " [0 0 1 0 1 0 1 0 0 0 1 1 0 0 1 0 0 1 0 1 0 0 1 1 1 1 0 1 1 0]\n",
      " [1 1 0 0 1 1 0 1 1 1 0 1 0 0 0 1 1 1 0 0 0 1 1 0 0 0 1 1 0 0]\n",
      " [1 1 0 1 1 0 0 1 1 1 0 1 1 0 1 0 1 1 0 0 1 0 0 1 1 0 1 0 0 0]\n",
      " [1 0 0 1 1 1 0 0 0 1 1 0 0 0 0 0 1 1 1 1 1 0 1 1 0 1 0 0 1 0]\n",
      " [1 0 1 0 1 0 0 1 0 0 1 1 0 1 0 0 0 0 0 1 1 1 1 1 1 1 0 0 1 0]]\n",
      "Harmony Matrix 7\n",
      "[[0 0 0 0 0 0 0 0 1 0 1 0 1 0 0 0 0 0 1 0 1 0 1 1 0 0 0 0 1 1]\n",
      " [0 1 1 1 1 0 0 0 0 0 1 0 1 0 1 1 1 0 0 0 1 0 1 1 0 0 0 1 1 1]\n",
      " [1 0 1 0 1 1 0 1 0 0 1 1 1 0 1 1 0 1 1 1 0 1 0 0 1 0 1 0 1 1]\n",
      " [1 0 1 1 1 0 1 1 0 0 0 1 1 0 0 0 1 0 0 0 0 0 1 1 0 0 0 1 0 1]\n",
      " [0 0 0 0 0 1 0 1 0 0 0 1 1 0 1 0 0 0 1 0 1 1 0 1 1 1 1 0 0 0]\n",
      " [1 0 1 0 0 0 0 1 0 1 0 0 1 1 1 1 0 0 0 1 1 1 1 1 0 0 1 1 1 0]\n",
      " [1 1 0 1 1 1 0 0 1 0 1 1 1 0 1 1 0 1 0 0 0 0 0 0 0 1 0 0 0 0]]\n",
      "Harmony Matrix 8\n",
      "[[1 1 0 0 1 0 1 0 1 0 0 0 0 0 1 0 0 1 1 1 0 0 0 1 1 1 1 0 0 1]\n",
      " [0 0 1 1 0 1 0 1 0 0 1 0 1 1 1 1 1 1 0 1 1 1 1 0 1 1 1 0 1 0]\n",
      " [1 0 0 1 1 1 0 0 1 1 1 1 0 1 0 1 1 1 1 1 1 1 0 0 1 0 0 1 0 0]\n",
      " [1 0 1 1 1 1 0 0 1 1 1 0 1 0 1 1 0 1 0 1 0 0 0 0 1 0 0 0 0 1]\n",
      " [0 1 1 1 1 0 0 1 0 0 0 0 1 1 0 0 0 0 0 0 0 1 1 1 0 0 1 0 0 1]\n",
      " [0 0 0 0 0 1 0 1 0 1 1 0 0 0 1 0 0 0 0 0 0 0 0 0 0 1 0 1 1 1]\n",
      " [0 0 1 0 1 0 1 0 1 0 1 0 1 1 0 1 1 1 0 1 0 1 1 1 1 1 0 1 0 0]]\n"
     ]
    }
   ],
   "source": [
    "print(\"Harmony Matrix 1\")\n",
    "print(harmony_matrix_1)\n",
    "print(\"Harmony Matrix 2\")\n",
    "print(harmony_matrix_2)\n",
    "print(\"Harmony Matrix 3\")\n",
    "print(harmony_matrix_3)\n",
    "print(\"Harmony Matrix 4\")\n",
    "print(harmony_matrix_4)\n",
    "print(\"Harmony Matrix 5\")\n",
    "print(harmony_matrix_5)\n",
    "print(\"Harmony Matrix 6\")\n",
    "print(harmony_matrix_6)\n",
    "print(\"Harmony Matrix 7\")\n",
    "print(harmony_matrix_7)\n",
    "print(\"Harmony Matrix 8\")\n",
    "print(harmony_matrix_8)"
   ]
  },
  {
   "cell_type": "code",
   "execution_count": 58,
   "metadata": {
    "scrolled": true
   },
   "outputs": [
    {
     "name": "stdout",
     "output_type": "stream",
     "text": [
      "Final Harmony Matrix\n",
      "[[1 0 1 0 0 1 1 0 1 0 1 0 0 1 0 1 0 1 0 0 0 0 1 1 1 1 1 1 0 0]\n",
      " [0 1 1 0 1 0 0 0 1 0 1 0 1 1 1 0 1 0 0 0 1 1 1 1 0 1 1 1 0 0]\n",
      " [0 0 0 0 1 0 1 0 0 1 1 1 0 1 0 1 0 1 1 0 0 1 0 0 1 1 0 1 0 0]\n",
      " [0 0 0 0 1 0 0 1 1 0 0 0 1 1 1 1 1 0 1 0 1 1 1 0 0 1 0 0 1 0]\n",
      " [1 0 1 0 0 0 0 1 0 0 0 1 0 1 1 0 0 0 0 0 0 0 1 1 0 1 1 1 0 0]\n",
      " [0 1 1 0 0 0 0 0 1 1 0 1 0 1 1 1 1 1 1 1 0 0 0 1 1 1 1 1 1 1]\n",
      " [0 1 0 0 1 1 1 0 0 1 0 0 1 0 1 0 1 0 1 0 0 1 1 1 0 0 0 0 0 0]]\n",
      "Optimal Harmony Matrix\n",
      "[[0 1 1 0 0 0 0 0 1 1 0 1 0 1 1 1 1 1 1 1 0 0 0 1 1 1 1 1 1 1]]\n",
      "Final Harmony Matrix\n",
      "[[0 0 0 0 0 0 1 0 0 1 1 0 0 0 0 1 0 0 1 0 0 0 1 0 1 0 1 1 0 1]\n",
      " [1 1 1 1 1 0 1 0 0 1 1 1 1 1 0 0 1 1 0 0 1 1 0 1 1 1 0 1 1 1]\n",
      " [1 1 1 1 0 0 1 0 1 0 1 1 1 0 1 1 0 1 1 0 0 1 1 1 0 0 0 0 1 0]\n",
      " [0 1 1 0 1 0 1 1 1 1 0 1 0 1 0 1 1 1 0 1 1 0 0 1 1 1 0 0 0 0]\n",
      " [0 0 0 1 0 1 0 0 0 1 1 0 1 0 1 1 1 0 0 1 1 1 0 1 1 1 0 1 0 1]\n",
      " [0 1 1 0 1 1 0 1 1 1 0 1 0 1 1 0 0 1 0 0 0 1 1 0 0 0 1 0 1 1]\n",
      " [1 1 0 0 0 0 1 0 0 0 1 1 1 1 1 0 1 0 0 1 0 0 1 1 1 1 1 1 1 0]]\n",
      "Optimal Harmony Matrix\n",
      "[[0 0 0 1 0 1 0 0 0 1 1 0 1 0 1 1 1 0 0 1 1 1 0 1 1 1 0 1 0 1]]\n",
      "Final Harmony Matrix\n",
      "[[0 1 0 1 0 0 1 0 0 1 1 1 0 1 0 0 1 1 0 0 0 1 0 1 0 1 1 0 0 1]\n",
      " [1 1 0 1 1 0 0 1 0 0 0 0 0 1 0 1 1 0 0 0 1 0 1 1 1 1 1 0 0 0]\n",
      " [1 0 1 1 1 0 0 1 0 1 0 1 1 0 0 0 1 0 1 0 0 1 1 1 1 1 0 0 0 0]\n",
      " [0 1 1 0 1 0 0 0 0 1 0 1 1 1 1 0 1 1 0 1 0 0 1 1 0 0 0 1 0 1]\n",
      " [1 1 0 0 1 1 0 0 1 0 0 0 1 0 0 0 1 1 0 0 0 1 1 1 0 0 0 1 1 1]\n",
      " [0 0 1 0 0 0 1 1 1 1 1 1 0 1 1 1 1 0 1 0 1 1 1 1 1 1 1 1 0 0]\n",
      " [0 0 1 1 1 0 1 1 1 1 1 1 0 0 1 0 0 1 1 0 1 0 1 0 0 1 0 1 1 1]]\n",
      "Optimal Harmony Matrix\n",
      "[[0 0 1 0 0 0 1 1 1 1 1 1 0 1 1 1 1 0 1 0 1 1 1 1 1 1 1 1 0 0]]\n",
      "Final Harmony Matrix\n",
      "[[1 1 1 1 1 0 1 0 0 1 1 1 0 0 1 0 1 1 1 0 0 1 0 0 0 0 0 1 0 0]\n",
      " [0 0 1 1 1 0 0 1 1 0 0 1 1 0 1 0 1 1 0 0 1 1 1 1 1 1 1 0 0 1]\n",
      " [0 0 0 1 1 1 0 1 1 1 0 1 0 1 0 0 1 0 1 0 1 1 0 0 1 1 1 1 1 0]\n",
      " [1 0 1 0 1 0 0 0 1 1 1 0 1 1 0 1 0 0 0 0 1 0 1 0 1 0 1 1 0 1]\n",
      " [1 0 1 1 0 0 1 1 1 1 1 0 1 1 0 0 0 1 1 1 0 0 1 0 1 0 1 0 1 0]\n",
      " [0 0 1 1 1 0 1 1 1 0 1 0 0 0 1 0 0 0 0 1 1 1 1 1 1 1 0 1 0 0]\n",
      " [1 1 0 0 1 0 1 0 1 0 1 0 1 1 1 0 0 1 1 0 0 1 1 1 1 1 0 1 0 1]]\n",
      "Optimal Harmony Matrix\n",
      "[[0 0 1 1 1 0 0 1 1 0 0 1 1 0 1 0 1 1 0 0 1 1 1 1 1 1 1 0 0 1]]\n",
      "Final Harmony Matrix\n",
      "[[1 0 0 0 1 0 1 0 0 0 0 1 0 1 1 1 0 1 1 0 0 1 0 0 0 0 1 1 0 0]\n",
      " [1 1 1 0 0 1 1 1 1 0 0 1 0 0 1 1 0 0 1 0 0 1 0 1 0 0 1 0 1 0]\n",
      " [1 1 0 0 1 0 1 1 1 0 0 1 0 0 1 1 1 1 1 1 0 1 0 0 0 1 1 0 0 0]\n",
      " [1 0 1 1 1 0 0 0 0 1 1 1 1 0 0 0 1 0 1 1 0 1 0 1 1 1 0 1 0 0]\n",
      " [0 1 1 0 1 1 0 0 0 0 1 0 1 1 0 0 1 1 0 1 1 1 0 0 1 1 0 1 0 0]\n",
      " [1 0 0 1 0 0 0 1 1 1 0 0 0 0 0 0 0 1 1 1 1 1 1 0 1 0 1 1 0 1]\n",
      " [1 1 0 0 1 1 1 1 1 0 1 1 1 0 0 1 0 0 1 1 0 1 1 0 0 0 1 0 1 1]]\n",
      "Optimal Harmony Matrix\n",
      "[[1 0 0 1 0 0 0 1 1 1 0 0 0 0 0 0 0 1 1 1 1 1 1 0 1 0 1 1 0 1]]\n",
      "Final Harmony Matrix\n",
      "[[1 0 1 0 1 0 1 1 0 0 0 1 0 0 1 1 1 1 1 1 0 1 0 0 1 1 0 0 1 0]\n",
      " [0 0 0 1 0 1 0 0 0 1 0 1 1 0 1 0 1 1 1 1 0 1 0 0 1 0 1 0 0 0]\n",
      " [0 0 1 0 1 0 1 0 0 0 1 1 0 0 1 0 0 1 0 1 0 0 1 1 1 1 0 1 1 0]\n",
      " [1 1 0 0 1 1 0 1 1 1 0 1 0 0 0 1 1 1 0 0 0 1 1 0 0 0 1 1 0 0]\n",
      " [1 1 0 1 1 0 0 1 1 1 0 1 1 0 1 0 1 1 0 0 1 0 0 1 1 0 1 0 0 0]\n",
      " [1 0 0 1 1 1 0 0 0 1 1 0 0 0 0 0 1 1 1 1 1 0 1 1 0 1 0 0 1 0]\n",
      " [1 0 1 0 1 0 0 1 0 0 1 1 0 1 0 0 0 0 0 1 1 1 1 1 1 1 0 0 1 0]]\n",
      "Optimal Harmony Matrix\n",
      "[[0 0 0 1 0 1 0 0 0 1 0 1 1 0 1 0 1 1 1 1 0 1 0 0 1 0 1 0 0 0]]\n",
      "Final Harmony Matrix\n",
      "[[0 0 0 0 0 0 0 0 1 0 1 0 1 0 0 0 0 0 1 0 1 0 1 1 0 0 0 0 1 1]\n",
      " [0 1 1 1 1 0 0 0 0 0 1 0 1 0 1 1 1 0 0 0 1 0 1 1 0 0 0 1 1 1]\n",
      " [1 0 1 0 1 1 0 1 0 0 1 1 1 0 1 1 0 1 1 1 0 1 0 0 1 0 1 0 1 1]\n",
      " [0 0 0 1 1 1 0 1 1 1 0 0 1 1 0 0 0 0 1 0 0 1 0 0 1 1 1 0 1 0]\n",
      " [0 0 0 0 0 1 0 1 0 0 0 1 1 0 1 0 0 0 1 0 1 1 0 1 1 1 1 0 0 0]\n",
      " [1 0 1 0 0 0 0 1 0 1 0 0 1 1 1 1 0 0 0 1 1 1 1 1 0 0 1 1 1 0]\n",
      " [1 1 0 1 1 1 0 0 1 0 1 1 1 0 1 1 0 1 0 0 0 0 0 0 0 1 0 0 0 0]]\n",
      "Optimal Harmony Matrix\n",
      "[[0 0 0 0 0 1 0 1 0 0 0 1 1 0 1 0 0 0 1 0 1 1 0 1 1 1 1 0 0 0]]\n",
      "Final Harmony Matrix\n",
      "[[1 1 0 0 1 0 1 0 1 0 0 0 0 0 1 0 0 1 1 1 0 0 0 1 1 1 1 0 0 1]\n",
      " [0 0 1 1 0 1 0 1 0 0 1 0 1 1 1 1 1 1 0 1 1 1 1 0 1 1 1 0 1 0]\n",
      " [1 0 0 1 1 1 0 0 1 1 1 1 0 1 0 1 1 1 1 1 1 1 0 0 1 0 0 1 0 0]\n",
      " [1 0 1 1 1 1 0 0 1 1 1 0 1 0 1 1 0 1 0 1 0 0 0 0 1 0 0 0 0 1]\n",
      " [0 1 1 1 1 0 0 1 0 0 0 0 1 1 0 0 0 0 0 0 0 1 1 1 0 0 1 0 0 1]\n",
      " [0 0 0 0 0 1 0 1 0 1 1 0 0 0 1 0 0 0 0 0 0 0 0 0 0 1 0 1 1 1]\n",
      " [0 0 0 1 1 0 1 1 1 1 0 1 0 0 1 0 0 0 0 1 1 0 0 1 0 1 0 0 1 0]]\n",
      "Optimal Harmony Matrix\n",
      "[[0 0 1 1 0 1 0 1 0 0 1 0 1 1 1 1 1 1 0 1 1 1 1 0 1 1 1 0 1 0]]\n"
     ]
    }
   ],
   "source": [
    "predict_list,data_X,data_Y = train_base_models(init_models_2,init_params_2)\n",
    "\n",
    "harmony_matrix_1 = hs(harmony_matrix_1)\n",
    "harmony_matrix_2 = hs(harmony_matrix_2)\n",
    "harmony_matrix_3 = hs(harmony_matrix_3)\n",
    "harmony_matrix_4 = hs(harmony_matrix_4)\n",
    "harmony_matrix_5 = hs(harmony_matrix_5)\n",
    "harmony_matrix_6 = hs(harmony_matrix_6)\n",
    "harmony_matrix_7 = hs(harmony_matrix_7)\n",
    "harmony_matrix_8 = hs(harmony_matrix_8)"
   ]
  },
  {
   "cell_type": "code",
   "execution_count": 59,
   "metadata": {
    "scrolled": true
   },
   "outputs": [
    {
     "name": "stdout",
     "output_type": "stream",
     "text": [
      "Recursive Harmony Matrix\n",
      "[[0 1 1 0 0 0 0 0 1 1 0 1 0 1 1 1 1 1 1 1 0 0 0 1 1 1 1 1 1 1]\n",
      " [0 0 0 1 0 1 0 0 0 1 1 0 1 0 1 1 1 0 0 1 1 1 0 1 1 1 0 1 0 1]\n",
      " [0 0 1 0 0 0 1 1 1 1 1 1 0 1 1 1 1 0 1 0 1 1 1 1 1 1 1 1 0 0]\n",
      " [0 0 1 1 1 0 0 1 1 0 0 1 1 0 1 0 1 1 0 0 1 1 1 1 1 1 1 0 0 1]\n",
      " [1 0 0 1 0 0 0 1 1 1 0 0 0 0 0 0 0 1 1 1 1 1 1 0 1 0 1 1 0 1]\n",
      " [0 0 0 1 0 1 0 0 0 1 0 1 1 0 1 0 1 1 1 1 0 1 0 0 1 0 1 0 0 0]\n",
      " [0 0 0 0 0 1 0 1 0 0 0 1 1 0 1 0 0 0 1 0 1 1 0 1 1 1 1 0 0 0]\n",
      " [0 0 1 1 0 1 0 1 0 0 1 0 1 1 1 1 1 1 0 1 1 1 1 0 1 1 1 0 1 0]]\n",
      "Final Harmony Matrix\n",
      "[[0 1 1 0 0 0 0 0 1 1 0 1 0 1 1 1 1 1 1 1 0 0 0 1 1 1 1 1 1 1]\n",
      " [0 0 0 1 0 1 0 0 0 1 1 0 1 0 1 1 1 0 0 1 1 1 0 1 1 1 0 1 0 1]\n",
      " [0 0 1 0 0 0 1 1 1 1 1 1 0 1 1 1 1 0 1 0 1 1 1 1 1 1 1 1 0 0]\n",
      " [0 0 1 1 1 0 0 1 1 0 0 1 1 0 1 0 1 1 0 0 1 1 1 1 1 1 1 0 0 1]\n",
      " [1 1 1 1 1 0 1 1 1 1 1 1 0 1 1 0 0 1 1 1 1 1 1 0 0 1 1 0 0 1]\n",
      " [0 0 0 1 0 1 0 0 0 1 0 1 1 0 1 0 1 1 1 1 0 1 0 0 1 0 1 0 0 0]\n",
      " [0 0 0 0 0 1 0 1 0 0 0 1 1 0 1 0 0 0 1 0 1 1 0 1 1 1 1 0 0 0]\n",
      " [0 0 1 1 0 1 0 1 0 0 1 0 1 1 1 1 1 1 0 1 1 1 1 0 1 1 1 0 1 0]]\n",
      "Optimal Harmony Matrix\n",
      "[[0 0 0 0 0 1 0 1 0 0 0 1 1 0 1 0 0 0 1 0 1 1 0 1 1 1 1 0 0 0]]\n"
     ]
    }
   ],
   "source": [
    "harmony_matrix_rec = np.concatenate((harmony_matrix_1,harmony_matrix_2,harmony_matrix_3,harmony_matrix_4,\\\n",
    "                                    harmony_matrix_5,harmony_matrix_6,harmony_matrix_7,harmony_matrix_8))\n",
    "print(\"Recursive Harmony Matrix\")\n",
    "print(harmony_matrix_rec)\n",
    "harmony_matrix_rec = hs(harmony_matrix_rec)                    "
   ]
  },
  {
   "cell_type": "code",
   "execution_count": 61,
   "metadata": {
    "scrolled": true
   },
   "outputs": [
    {
     "name": "stdout",
     "output_type": "stream",
     "text": [
      "time 55.460633754730225\n",
      "0.9414763406030683\n"
     ]
    }
   ],
   "source": [
    "import time\n",
    "start = time.time()\n",
    "a_2 = final_harmony_search(init_models_2,init_params_2)\n",
    "end = time.time()\n",
    "print(\"time\",end - start)\n",
    "print(a_2)"
   ]
  },
  {
   "cell_type": "code",
   "execution_count": 62,
   "metadata": {},
   "outputs": [
    {
     "data": {
      "text/plain": [
       "[0.9413353486275559, 0.9414763406030683]"
      ]
     },
     "execution_count": 62,
     "metadata": {},
     "output_type": "execute_result"
    }
   ],
   "source": [
    "accu.append(a_2)\n",
    "accu"
   ]
  },
  {
   "cell_type": "code",
   "execution_count": 63,
   "metadata": {},
   "outputs": [],
   "source": [
    "\n",
    "new_models_rec,new_params_rec = get_new_models(init_models_2,init_params_2,harmony_matrix_rec)"
   ]
  },
  {
   "cell_type": "code",
   "execution_count": 73,
   "metadata": {},
   "outputs": [
    {
     "name": "stdout",
     "output_type": "stream",
     "text": [
      "time 4.307210206985474\n",
      "0.9417781106027013\n"
     ]
    }
   ],
   "source": [
    "import time\n",
    "start = time.time()\n",
    "b_2 = final_harmony_search(new_models_rec,new_params_rec)\n",
    "end = time.time()\n",
    "print(\"time\",end - start)\n",
    "print(b_2)\n"
   ]
  },
  {
   "cell_type": "code",
   "execution_count": 74,
   "metadata": {},
   "outputs": [
    {
     "data": {
      "text/plain": [
       "[0.9424847083981948, 0.9417781106027013]"
      ]
     },
     "execution_count": 74,
     "metadata": {},
     "output_type": "execute_result"
    }
   ],
   "source": [
    "accu_2.append(b_2)\n",
    "accu_2"
   ]
  },
  {
   "cell_type": "code",
   "execution_count": 75,
   "metadata": {},
   "outputs": [],
   "source": [
    "x_val=[8,30]"
   ]
  },
  {
   "cell_type": "code",
   "execution_count": 76,
   "metadata": {},
   "outputs": [
    {
     "data": {
      "text/plain": [
       "[0.9413353486275559, 0.9414763406030683]"
      ]
     },
     "execution_count": 76,
     "metadata": {},
     "output_type": "execute_result"
    }
   ],
   "source": [
    "accu"
   ]
  },
  {
   "cell_type": "code",
   "execution_count": 77,
   "metadata": {},
   "outputs": [
    {
     "data": {
      "text/plain": [
       "[0.9424847083981948, 0.9417781106027013]"
      ]
     },
     "execution_count": 77,
     "metadata": {},
     "output_type": "execute_result"
    }
   ],
   "source": [
    "accu_2"
   ]
  },
  {
   "cell_type": "markdown",
   "metadata": {},
   "source": [
    "## Number of Models 52"
   ]
  },
  {
   "cell_type": "code",
   "execution_count": 79,
   "metadata": {},
   "outputs": [],
   "source": [
    "init_models_3 = ['decision_tree','random_forest','linear_regression','logistic_regression','logistic_regression',\\\n",
    "               'random_forest','logistic_regression','decision_tree','linear_regression', 'random_forest', \\\n",
    "               'linear_regression','decision_tree','logistic_regression','decision_tree','random_forest',\\\n",
    "               'decision_tree', 'logistic_regression','linear_regression','random_forest','decision_tree', \\\n",
    "                'random_forest','linear_regression','logistic_regression','logistic_regression','random_forest',\\\n",
    "                'linear_regression','decision_tree','logistic_regression','decision_tree','random_forest',\\\n",
    "                 'decision_tree','random_forest','linear_regression','logistic_regression','logistic_regression',\\\n",
    "                 'random_forest','logistic_regression','decision_tree','linear_regression', 'random_forest', \\\n",
    "                 'linear_regression','decision_tree','logistic_regression','decision_tree','random_forest',\\\n",
    "                 'decision_tree', 'logistic_regression','linear_regression','random_forest','decision_tree',\\\n",
    "                 'logistic_regression','linear_regression'\n",
    "                ]\n",
    "init_params_3 = [param_dt, param_rf,param_lr, param_l2, param_l1,\n",
    "               param_r,param_l,param_d,param_lr,param_rf,\n",
    "               param_lr, param_dt,param_l,param_d,param_r,\n",
    "               param_dt, param_l2,param_lr,param_rf,param_d,\n",
    "               param_r,param_lr,param_l2, param_l,param_rf,\n",
    "               param_lr,param_dt,param_l2,param_dt,param_r,\n",
    "               param_dt, param_rf,param_lr, param_l2, param_l1,\n",
    "               param_r,param_l,param_d,param_lr,param_rf,\n",
    "               param_lr, param_dt,param_l,param_d,param_r,\n",
    "               param_dt, param_l2,param_lr,param_rf,param_d,\n",
    "               param_l,param_lr\n",
    "              ]"
   ]
  },
  {
   "cell_type": "code",
   "execution_count": 80,
   "metadata": {},
   "outputs": [
    {
     "data": {
      "text/plain": [
       "52"
      ]
     },
     "execution_count": 80,
     "metadata": {},
     "output_type": "execute_result"
    }
   ],
   "source": [
    "len(init_params_3)"
   ]
  },
  {
   "cell_type": "code",
   "execution_count": 81,
   "metadata": {},
   "outputs": [
    {
     "data": {
      "text/plain": [
       "52"
      ]
     },
     "execution_count": 81,
     "metadata": {},
     "output_type": "execute_result"
    }
   ],
   "source": [
    "len(init_models_3)"
   ]
  },
  {
   "cell_type": "code",
   "execution_count": 82,
   "metadata": {},
   "outputs": [],
   "source": [
    "harmony_matrix_1 = np.random.randint(2, size=(number_of_rows, len(init_models_3)))\n",
    "harmony_matrix_2 = np.random.randint(2, size=(number_of_rows, len(init_models_3)))\n",
    "harmony_matrix_3 = np.random.randint(2, size=(number_of_rows, len(init_models_3)))\n",
    "harmony_matrix_4 = np.random.randint(2, size=(number_of_rows, len(init_models_3)))\n",
    "harmony_matrix_5 = np.random.randint(2, size=(number_of_rows, len(init_models_3)))\n",
    "harmony_matrix_6 = np.random.randint(2, size=(number_of_rows, len(init_models_3)))\n",
    "harmony_matrix_7 = np.random.randint(2, size=(number_of_rows, len(init_models_3)))\n",
    "harmony_matrix_8 = np.random.randint(2, size=(number_of_rows, len(init_models_3)))"
   ]
  },
  {
   "cell_type": "code",
   "execution_count": 83,
   "metadata": {},
   "outputs": [
    {
     "name": "stdout",
     "output_type": "stream",
     "text": [
      "Harmony Matrix 1\n",
      "[[0 0 1 0 0 0 1 0 0 1 1 0 1 1 1 0 0 1 0 0 1 1 0 1 1 1 0 0 1 0 0 0 1 1 1 0\n",
      "  0 0 1 0 0 0 0 1 0 1 0 1 0 0 0 1]\n",
      " [0 1 0 1 0 1 1 1 0 0 1 1 0 0 1 1 0 0 1 0 1 0 0 0 1 0 0 1 1 0 1 0 1 1 1 0\n",
      "  0 0 0 0 1 0 0 1 1 0 1 0 0 0 0 1]\n",
      " [1 0 0 1 0 0 0 1 0 1 0 0 0 0 0 0 1 1 0 0 0 1 1 0 1 1 1 0 0 0 1 0 0 1 0 1\n",
      "  1 1 1 0 1 1 0 1 0 0 1 1 1 1 0 1]\n",
      " [1 1 0 1 0 0 0 1 1 1 0 1 0 1 1 0 1 0 1 1 0 0 0 0 1 0 0 0 1 0 0 1 0 0 0 0\n",
      "  0 1 1 0 0 0 1 1 1 0 1 0 1 1 1 1]\n",
      " [0 1 0 0 1 1 1 0 0 0 0 1 0 1 0 1 0 1 1 1 1 1 0 0 0 1 1 0 1 1 1 1 1 1 1 1\n",
      "  1 0 0 0 0 1 0 1 0 0 0 0 1 0 1 1]\n",
      " [0 0 0 0 0 0 1 1 1 1 1 1 0 0 1 0 0 1 1 0 1 1 0 1 1 0 0 0 0 0 0 1 1 0 0 1\n",
      "  0 1 0 1 1 1 1 0 1 0 0 1 1 0 1 0]\n",
      " [1 1 1 1 1 1 1 1 0 1 1 0 1 1 0 1 1 1 0 0 1 0 0 1 0 0 0 0 1 1 0 0 0 1 1 0\n",
      "  1 1 0 1 1 1 1 0 0 0 1 0 1 1 1 1]]\n",
      "Harmony Matrix 2\n",
      "[[1 1 0 0 0 0 1 1 0 1 1 1 1 1 0 0 0 1 1 0 1 1 0 1 1 1 1 1 0 1 1 0 0 1 1 0\n",
      "  0 1 1 0 1 0 0 1 0 0 1 1 0 0 1 0]\n",
      " [1 1 1 0 1 1 0 1 1 0 0 0 1 1 0 1 0 1 1 0 1 1 0 0 1 0 1 1 0 0 1 1 1 0 1 0\n",
      "  0 1 0 1 1 0 1 1 1 0 1 0 0 1 1 0]\n",
      " [1 1 1 0 0 0 0 0 1 1 1 1 0 1 0 1 1 0 0 1 0 1 1 0 0 1 1 1 1 0 0 0 0 0 1 0\n",
      "  0 1 0 1 0 0 0 1 1 1 1 0 1 1 1 0]\n",
      " [1 1 0 0 1 1 1 1 0 0 1 1 0 0 1 0 0 1 1 1 0 0 1 1 1 1 1 0 0 1 1 1 0 0 0 1\n",
      "  0 0 1 0 0 0 0 1 0 1 0 1 1 0 1 0]\n",
      " [0 0 1 1 1 0 1 1 1 0 1 0 1 0 0 0 1 0 0 1 0 1 0 1 0 1 0 1 0 1 1 0 0 1 0 0\n",
      "  0 0 1 1 1 1 0 1 0 1 0 0 0 1 1 0]\n",
      " [1 1 0 0 0 1 0 0 0 0 0 1 1 0 0 0 1 1 1 0 0 1 0 1 0 0 1 1 1 0 1 1 0 0 1 1\n",
      "  0 0 0 1 0 0 1 0 1 0 0 1 1 0 0 0]\n",
      " [1 0 0 1 1 0 1 0 1 1 0 1 0 1 0 1 1 0 1 0 1 0 1 0 1 0 0 1 1 1 1 0 0 1 1 1\n",
      "  0 1 0 0 0 0 1 0 1 0 1 1 1 1 0 1]]\n",
      "Harmony Matrix 3\n",
      "[[1 0 1 0 0 1 1 1 0 1 0 1 0 0 1 1 1 1 0 1 0 0 1 0 1 1 0 0 1 1 0 1 1 1 1 1\n",
      "  0 1 1 0 0 1 0 1 0 1 1 0 1 1 1 0]\n",
      " [1 0 1 0 0 1 0 0 1 1 0 0 0 1 1 1 0 1 0 1 1 1 0 0 1 0 1 0 0 0 0 0 1 0 0 1\n",
      "  0 0 0 1 1 0 1 0 1 1 1 0 0 0 1 0]\n",
      " [1 1 0 1 0 1 1 1 1 0 1 1 1 0 0 1 1 0 1 0 1 0 1 1 1 1 0 1 0 1 1 1 0 1 1 1\n",
      "  0 1 0 0 0 0 1 0 1 1 1 0 1 1 1 1]\n",
      " [0 0 0 1 1 0 1 1 1 0 1 0 0 1 1 1 0 1 0 0 0 1 1 1 1 0 1 1 1 1 1 0 1 1 1 1\n",
      "  0 1 0 0 1 1 0 1 0 1 1 1 0 1 0 0]\n",
      " [1 1 1 1 1 1 1 1 0 1 1 0 1 1 0 1 0 0 1 0 1 0 1 0 1 1 1 0 1 0 1 0 0 1 1 1\n",
      "  1 1 1 1 0 0 0 0 1 0 1 1 0 1 0 0]\n",
      " [0 0 1 1 0 0 1 0 0 0 0 0 1 1 1 0 1 0 1 1 0 0 1 1 0 1 0 0 0 0 0 1 1 0 1 1\n",
      "  1 1 0 0 0 0 0 1 1 0 0 0 0 0 0 0]\n",
      " [1 0 0 1 1 0 0 0 0 1 0 1 1 0 1 0 0 0 1 1 1 1 1 0 1 0 0 0 0 1 1 0 1 0 0 0\n",
      "  1 0 0 1 0 1 0 0 0 0 1 1 0 1 1 1]]\n",
      "Harmony Matrix 4\n",
      "[[1 1 1 0 0 0 0 1 0 0 0 1 1 1 0 1 1 1 1 0 0 1 0 1 0 0 1 1 0 0 0 0 1 0 1 1\n",
      "  0 1 0 0 0 1 1 0 0 1 0 1 1 1 0 1]\n",
      " [1 1 0 0 0 0 1 1 1 0 0 1 0 1 1 0 1 1 0 0 0 1 0 0 0 1 1 0 1 1 0 1 1 0 0 0\n",
      "  1 1 0 1 1 0 0 1 0 0 1 0 0 0 0 0]\n",
      " [0 1 0 1 1 1 0 0 0 0 0 0 1 1 1 1 0 0 1 1 0 0 1 1 1 1 1 1 0 1 1 1 1 0 0 1\n",
      "  1 0 0 1 0 0 0 1 0 0 1 0 1 0 1 1]\n",
      " [1 1 0 1 0 0 0 1 1 0 1 1 1 0 1 1 1 1 0 1 1 1 1 1 0 0 0 0 1 1 1 0 0 0 0 1\n",
      "  1 1 1 0 1 0 1 0 0 0 0 1 0 1 1 1]\n",
      " [0 0 0 0 1 0 0 1 0 1 0 0 1 1 0 1 0 1 0 0 1 1 0 1 0 1 1 0 1 0 1 0 0 1 0 1\n",
      "  0 0 1 1 0 0 0 1 1 0 0 0 1 1 1 0]\n",
      " [1 0 0 0 1 1 1 1 0 0 0 0 1 1 1 1 1 1 0 0 0 1 0 1 1 1 1 0 0 1 1 0 0 1 1 1\n",
      "  1 1 0 1 0 1 0 1 0 0 0 0 1 0 0 1]\n",
      " [0 0 1 1 1 1 1 0 0 0 1 0 1 1 1 0 0 1 1 0 1 0 1 1 1 0 1 1 0 0 0 1 0 1 0 0\n",
      "  1 0 0 1 0 0 1 1 0 0 0 0 1 0 1 1]]\n",
      "Harmony Matrix 5\n",
      "[[0 1 0 0 0 1 0 0 0 0 0 1 0 1 0 1 0 1 1 0 0 0 0 0 0 1 0 0 1 1 1 0 0 0 0 0\n",
      "  1 1 1 1 0 0 1 1 0 1 1 1 0 0 1 0]\n",
      " [1 0 0 0 0 0 0 1 1 1 0 1 1 0 0 0 1 1 1 0 0 0 0 1 0 1 0 0 0 0 1 0 1 0 1 0\n",
      "  1 0 0 1 0 1 1 1 0 1 0 1 0 1 1 1]\n",
      " [0 1 1 1 1 0 1 1 0 1 0 1 1 0 1 0 0 1 0 1 1 0 1 0 0 1 0 1 0 0 1 0 1 1 0 1\n",
      "  0 0 0 1 1 1 1 1 1 0 0 0 0 0 0 1]\n",
      " [1 0 1 0 0 0 0 0 0 1 0 1 0 1 1 0 0 0 1 0 0 0 0 1 1 1 0 0 0 1 1 0 1 1 1 0\n",
      "  0 1 1 1 1 0 0 0 0 0 1 1 1 0 1 1]\n",
      " [1 0 0 0 0 1 0 1 0 1 1 0 0 0 0 1 0 0 0 1 1 0 1 0 1 1 0 0 0 1 0 0 1 0 0 1\n",
      "  0 0 0 0 0 1 1 1 0 0 0 0 1 1 0 1]\n",
      " [0 0 1 0 1 1 0 1 1 1 1 1 0 0 0 0 0 0 0 1 1 0 0 1 1 0 0 0 1 1 0 1 1 0 0 0\n",
      "  1 0 0 1 0 1 0 0 1 0 0 0 0 1 1 0]\n",
      " [0 0 1 0 1 1 0 0 1 1 1 0 1 1 0 1 1 1 1 1 0 1 0 0 0 1 1 0 0 1 1 1 0 0 1 1\n",
      "  1 0 1 0 1 0 0 0 0 1 0 0 0 1 0 1]]\n",
      "Harmony Matrix 6\n",
      "[[1 1 1 1 0 1 1 0 0 1 1 0 1 1 1 0 0 0 0 1 0 0 1 0 1 1 1 1 0 1 1 0 1 1 1 1\n",
      "  0 0 0 1 1 1 0 0 0 0 0 1 0 0 0 1]\n",
      " [1 0 1 1 0 0 1 1 0 1 0 0 0 0 0 0 1 1 0 0 0 1 0 1 1 1 1 0 0 0 0 0 1 0 1 0\n",
      "  1 1 0 1 0 0 1 1 0 1 1 1 1 0 0 0]\n",
      " [0 1 1 0 1 1 0 0 1 1 1 0 0 1 1 0 1 0 0 0 1 1 0 0 1 0 0 0 0 0 0 1 1 0 0 1\n",
      "  1 0 1 1 0 1 0 0 1 0 0 1 0 1 0 1]\n",
      " [0 1 0 1 0 0 1 1 1 0 1 1 0 1 0 1 0 1 0 0 1 0 0 1 1 1 0 0 0 0 0 1 1 0 0 1\n",
      "  1 0 0 0 1 0 0 0 1 1 0 1 0 0 0 1]\n",
      " [1 1 1 1 1 1 1 0 1 1 1 1 1 0 1 1 0 1 1 0 1 1 1 1 0 0 0 1 0 0 1 1 0 0 1 1\n",
      "  1 0 0 1 0 0 0 1 1 1 1 0 1 1 0 1]\n",
      " [0 0 0 1 1 0 0 1 0 1 0 1 1 1 0 1 0 0 1 1 1 1 1 1 0 0 1 0 1 1 1 0 0 0 1 0\n",
      "  0 1 1 0 0 1 0 1 0 0 0 0 0 0 1 1]\n",
      " [0 1 0 1 0 0 0 0 1 0 0 0 0 1 0 0 0 0 0 1 1 1 1 1 0 0 1 0 1 1 1 0 0 0 0 1\n",
      "  0 1 0 0 0 1 1 1 1 0 1 1 1 0 0 0]]\n",
      "Harmony Matrix 7\n",
      "[[0 0 1 0 0 1 0 1 1 0 1 0 0 1 0 0 0 1 1 1 0 0 0 0 1 1 1 1 1 1 1 0 1 0 1 0\n",
      "  0 0 1 1 1 0 1 1 0 1 0 1 0 1 0 1]\n",
      " [1 1 0 1 1 1 0 0 1 0 0 0 0 0 1 1 1 0 0 1 1 1 1 0 0 0 0 1 0 1 1 0 0 1 0 0\n",
      "  1 1 1 0 1 0 1 0 0 0 0 0 1 1 0 1]\n",
      " [0 1 1 1 0 1 0 0 1 1 0 1 1 0 0 1 1 1 0 1 1 1 0 0 0 1 1 1 0 1 1 1 1 1 0 1\n",
      "  1 1 0 0 1 0 1 0 1 0 1 1 0 1 0 0]\n",
      " [0 0 0 1 1 0 1 0 1 0 0 1 0 0 1 1 0 1 1 0 1 0 1 1 0 0 0 1 1 0 0 0 1 0 0 0\n",
      "  1 1 1 1 1 1 1 0 1 1 0 1 1 1 1 1]\n",
      " [0 0 0 0 1 1 0 0 0 0 1 0 1 0 0 1 0 1 0 1 1 0 0 0 0 1 0 0 1 0 0 1 0 0 0 1\n",
      "  0 1 0 1 0 0 0 0 1 1 0 0 0 1 1 0]\n",
      " [0 1 1 1 0 0 0 0 1 0 0 0 1 1 0 0 1 0 1 1 0 1 1 1 0 0 1 1 1 0 0 0 0 1 0 1\n",
      "  1 0 0 0 1 1 0 1 0 1 1 1 0 1 1 0]\n",
      " [1 0 0 0 0 1 0 0 1 0 0 0 1 1 1 1 1 1 1 1 1 1 1 1 1 1 0 0 0 0 0 1 1 0 1 0\n",
      "  0 1 0 1 0 0 0 0 1 0 1 0 0 1 0 0]]\n",
      "Harmony Matrix 8\n",
      "[[1 1 1 0 1 0 0 0 0 0 0 1 1 0 0 1 1 0 0 1 0 1 0 0 0 0 0 1 0 1 1 0 1 0 1 0\n",
      "  0 0 0 0 1 0 0 1 1 1 0 1 0 1 1 0]\n",
      " [1 0 0 0 1 1 0 1 0 1 0 0 0 1 1 1 1 0 1 0 0 1 1 1 0 0 0 1 0 1 1 1 1 1 1 0\n",
      "  0 1 1 0 0 0 1 0 1 0 1 1 0 1 1 1]\n",
      " [1 0 0 0 1 0 1 0 0 0 1 1 1 1 1 1 1 0 1 1 1 0 1 0 0 1 0 1 0 0 0 0 0 1 0 0\n",
      "  0 0 0 1 1 1 1 1 1 0 1 1 1 1 0 0]\n",
      " [1 0 1 0 1 1 0 1 0 1 1 1 1 1 0 1 1 0 0 0 1 0 1 1 0 1 1 1 0 1 0 0 0 0 0 1\n",
      "  0 0 1 1 1 1 1 1 1 1 1 0 0 1 0 0]\n",
      " [0 1 1 1 1 1 0 1 0 0 1 1 1 1 0 1 1 0 0 0 1 0 1 0 0 0 1 1 1 1 0 0 0 1 0 0\n",
      "  1 0 0 1 1 0 1 1 0 1 0 1 0 0 0 1]\n",
      " [0 1 0 0 1 1 1 1 1 1 1 0 1 0 1 0 0 1 1 0 0 0 0 1 1 0 1 0 0 0 0 1 1 0 0 0\n",
      "  0 0 0 0 0 0 0 0 0 0 1 1 1 1 1 0]\n",
      " [0 1 1 0 0 1 0 0 1 1 1 1 1 0 0 1 0 0 0 1 1 0 0 0 1 0 1 1 1 0 1 0 0 0 0 1\n",
      "  0 1 1 1 0 0 0 1 1 0 0 0 1 1 0 0]]\n"
     ]
    }
   ],
   "source": [
    "print(\"Harmony Matrix 1\")\n",
    "print(harmony_matrix_1)\n",
    "print(\"Harmony Matrix 2\")\n",
    "print(harmony_matrix_2)\n",
    "print(\"Harmony Matrix 3\")\n",
    "print(harmony_matrix_3)\n",
    "print(\"Harmony Matrix 4\")\n",
    "print(harmony_matrix_4)\n",
    "print(\"Harmony Matrix 5\")\n",
    "print(harmony_matrix_5)\n",
    "print(\"Harmony Matrix 6\")\n",
    "print(harmony_matrix_6)\n",
    "print(\"Harmony Matrix 7\")\n",
    "print(harmony_matrix_7)\n",
    "print(\"Harmony Matrix 8\")\n",
    "print(harmony_matrix_8)"
   ]
  },
  {
   "cell_type": "code",
   "execution_count": 84,
   "metadata": {},
   "outputs": [
    {
     "name": "stdout",
     "output_type": "stream",
     "text": [
      "Final Harmony Matrix\n",
      "[[0 0 1 0 0 0 1 0 0 1 1 0 1 1 1 0 0 1 0 0 1 1 0 1 1 1 0 0 1 0 0 0 1 1 1 0\n",
      "  0 0 1 0 0 0 0 1 0 1 0 1 0 0 0 1]\n",
      " [0 1 0 1 0 1 1 1 0 0 1 1 0 0 1 1 0 0 1 0 1 0 0 0 1 0 0 1 1 0 1 0 1 1 1 0\n",
      "  0 0 0 0 1 0 0 1 1 0 1 0 0 0 0 1]\n",
      " [0 1 1 1 0 1 1 1 0 1 1 1 0 0 0 1 0 1 1 0 0 0 0 0 0 0 0 0 0 0 0 1 1 0 1 1\n",
      "  1 1 1 0 0 0 0 1 1 0 1 1 0 0 1 1]\n",
      " [1 1 0 1 0 0 0 1 1 1 0 1 0 1 1 0 1 0 1 1 0 0 0 0 1 0 0 0 1 0 0 1 0 0 0 0\n",
      "  0 1 1 0 0 0 1 1 1 0 1 0 1 1 1 1]\n",
      " [0 1 0 0 1 1 1 0 0 0 0 1 0 1 0 1 0 1 1 1 1 1 0 0 0 1 1 0 1 1 1 1 1 1 1 1\n",
      "  1 0 0 0 0 1 0 1 0 0 0 0 1 0 1 1]\n",
      " [0 0 0 0 0 0 1 1 1 1 1 1 0 0 1 0 0 1 1 0 1 1 0 1 1 0 0 0 0 0 0 1 1 0 0 1\n",
      "  0 1 0 1 1 1 1 0 1 0 0 1 1 0 1 0]\n",
      " [1 1 1 1 1 1 1 1 0 1 1 0 1 1 0 1 1 1 0 0 1 0 0 1 0 0 0 0 1 1 0 0 0 1 1 0\n",
      "  1 1 0 1 1 1 1 0 0 0 1 0 1 1 1 1]]\n",
      "Optimal Harmony Matrix\n",
      "[[0 1 0 1 0 1 1 1 0 0 1 1 0 0 1 1 0 0 1 0 1 0 0 0 1 0 0 1 1 0 1 0 1 1 1 0\n",
      "  0 0 0 0 1 0 0 1 1 0 1 0 0 0 0 1]]\n",
      "Final Harmony Matrix\n",
      "[[1 1 0 0 0 0 1 1 0 1 1 1 1 1 0 0 0 1 1 0 1 1 0 1 1 1 1 1 0 1 1 0 0 1 1 0\n",
      "  0 1 1 0 1 0 0 1 0 0 1 1 0 0 1 0]\n",
      " [1 1 1 0 1 1 0 1 1 0 0 0 1 1 0 1 0 1 1 0 1 1 0 0 1 0 1 1 0 0 1 1 1 0 1 0\n",
      "  0 1 0 1 1 0 1 1 1 0 1 0 0 1 1 0]\n",
      " [1 1 1 0 0 0 0 0 1 1 1 1 0 1 0 1 1 0 0 1 0 1 1 0 0 1 1 1 1 0 0 0 0 0 1 0\n",
      "  0 1 0 1 0 0 0 1 1 1 1 0 1 1 1 0]\n",
      " [1 1 0 0 1 1 1 1 0 0 1 1 0 0 1 0 0 1 1 1 0 0 1 1 1 1 1 0 0 1 1 1 0 0 0 1\n",
      "  0 0 1 0 0 0 0 1 0 1 0 1 1 0 1 0]\n",
      " [0 1 1 1 0 0 1 0 1 0 1 0 1 0 0 1 0 0 1 0 1 1 0 1 0 0 1 1 1 1 0 0 1 1 0 1\n",
      "  1 0 0 1 1 0 1 1 1 0 1 0 0 1 1 1]\n",
      " [1 1 0 0 0 1 0 0 0 0 0 1 1 0 0 0 1 1 1 0 0 1 0 1 0 0 1 1 1 0 1 1 0 0 1 1\n",
      "  0 0 0 1 0 0 1 0 1 0 0 1 1 0 0 0]\n",
      " [1 0 0 1 1 0 1 0 1 1 0 1 0 1 0 1 1 0 1 0 1 0 1 0 1 0 0 1 1 1 1 0 0 1 1 1\n",
      "  0 1 0 0 0 0 1 0 1 0 1 1 1 1 0 1]]\n",
      "Optimal Harmony Matrix\n",
      "[[0 1 1 1 0 0 1 0 1 0 1 0 1 0 0 1 0 0 1 0 1 1 0 1 0 0 1 1 1 1 0 0 1 1 0 1\n",
      "  1 0 0 1 1 0 1 1 1 0 1 0 0 1 1 1]]\n",
      "Final Harmony Matrix\n",
      "[[1 0 1 0 0 1 1 1 0 1 0 1 0 0 1 1 1 1 0 1 0 0 1 0 1 1 0 0 1 1 0 1 1 1 1 1\n",
      "  0 1 1 0 0 1 0 1 0 1 1 0 1 1 1 0]\n",
      " [1 0 1 0 0 1 0 0 1 1 0 0 0 1 1 1 0 1 0 1 1 1 0 0 1 0 1 0 0 0 0 0 1 0 0 1\n",
      "  0 0 0 1 1 0 1 0 1 1 1 0 0 0 1 0]\n",
      " [1 1 0 1 0 1 1 1 1 0 1 1 1 0 0 1 1 0 1 0 1 0 1 1 1 1 0 1 0 1 1 1 0 1 1 1\n",
      "  0 1 0 0 0 0 1 0 1 1 1 0 1 1 1 1]\n",
      " [0 0 0 1 1 0 1 1 1 0 1 0 0 1 1 1 0 1 0 0 0 1 1 1 1 0 1 1 1 1 1 0 1 1 1 1\n",
      "  0 1 0 0 1 1 0 1 0 1 1 1 0 1 0 0]\n",
      " [1 1 1 1 1 1 1 1 0 1 1 0 1 1 0 1 0 0 1 0 1 0 1 0 1 1 1 0 1 0 1 0 0 1 1 1\n",
      "  1 1 1 1 0 0 0 0 1 0 1 1 0 1 0 0]\n",
      " [0 1 0 0 1 1 1 1 0 1 1 1 1 1 1 0 0 1 0 1 0 1 0 0 1 0 1 0 1 0 0 1 1 0 0 1\n",
      "  0 0 1 1 0 0 0 0 0 0 0 1 1 1 1 1]\n",
      " [1 0 0 1 1 0 0 0 0 1 0 1 1 0 1 0 0 0 1 1 1 1 1 0 1 0 0 0 0 1 1 0 1 0 0 0\n",
      "  1 0 0 1 0 1 0 0 0 0 1 1 0 1 1 1]]\n",
      "Optimal Harmony Matrix\n",
      "[[1 0 0 1 1 0 0 0 0 1 0 1 1 0 1 0 0 0 1 1 1 1 1 0 1 0 0 0 0 1 1 0 1 0 0 0\n",
      "  1 0 0 1 0 1 0 0 0 0 1 1 0 1 1 1]]\n",
      "Final Harmony Matrix\n",
      "[[1 1 0 1 0 1 1 0 1 1 1 0 0 0 0 0 0 0 1 1 1 1 0 0 0 1 0 1 1 1 0 0 0 0 0 1\n",
      "  0 0 1 0 1 1 0 0 1 1 0 0 0 1 1 1]\n",
      " [1 1 0 0 0 0 1 1 1 0 0 1 0 1 1 0 1 1 0 0 0 1 0 0 0 1 1 0 1 1 0 1 1 0 0 0\n",
      "  1 1 0 1 1 0 0 1 0 0 1 0 0 0 0 0]\n",
      " [0 1 0 1 1 1 0 0 0 0 0 0 1 1 1 1 0 0 1 1 0 0 1 1 1 1 1 1 0 1 1 1 1 0 0 1\n",
      "  1 0 0 1 0 0 0 1 0 0 1 0 1 0 1 1]\n",
      " [1 1 0 1 0 0 0 1 1 0 1 1 1 0 1 1 1 1 0 1 1 1 1 1 0 0 0 0 1 1 1 0 0 0 0 1\n",
      "  1 1 1 0 1 0 1 0 0 0 0 1 0 1 1 1]\n",
      " [0 0 0 0 1 0 0 1 0 1 0 0 1 1 0 1 0 1 0 0 1 1 0 1 0 1 1 0 1 0 1 0 0 1 0 1\n",
      "  0 0 1 1 0 0 0 1 1 0 0 0 1 1 1 0]\n",
      " [1 0 0 0 1 1 1 1 0 0 0 0 1 1 1 1 1 1 0 0 0 1 0 1 1 1 1 0 0 1 1 0 0 1 1 1\n",
      "  1 1 0 1 0 1 0 1 0 0 0 0 1 0 0 1]\n",
      " [0 0 1 1 1 1 1 0 0 0 1 0 1 1 1 0 0 1 1 0 1 0 1 1 1 0 1 1 0 0 0 1 0 1 0 0\n",
      "  1 0 0 1 0 0 1 1 0 0 0 0 1 0 1 1]]\n",
      "Optimal Harmony Matrix\n",
      "[[1 1 0 1 0 1 1 0 1 1 1 0 0 0 0 0 0 0 1 1 1 1 0 0 0 1 0 1 1 1 0 0 0 0 0 1\n",
      "  0 0 1 0 1 1 0 0 1 1 0 0 0 1 1 1]]\n",
      "Final Harmony Matrix\n",
      "[[0 1 0 0 0 1 0 0 0 0 0 1 0 1 0 1 0 1 1 0 0 0 0 0 0 1 0 0 1 1 1 0 0 0 0 0\n",
      "  1 1 1 1 0 0 1 1 0 1 1 1 0 0 1 0]\n",
      " [1 1 0 1 0 1 1 1 0 1 1 0 0 1 0 0 1 1 1 1 0 1 0 0 0 0 1 0 0 0 0 1 0 0 1 1\n",
      "  0 1 0 0 0 0 1 0 1 0 1 0 1 0 1 0]\n",
      " [0 1 1 1 1 0 1 1 0 1 0 1 1 0 1 0 0 1 0 1 1 0 1 0 0 1 0 1 0 0 1 0 1 1 0 1\n",
      "  0 0 0 1 1 1 1 1 1 0 0 0 0 0 0 1]\n",
      " [1 0 1 0 0 0 0 0 0 1 0 1 0 1 1 0 0 0 1 0 0 0 0 1 1 1 0 0 0 1 1 0 1 1 1 0\n",
      "  0 1 1 1 1 0 0 0 0 0 1 1 1 0 1 1]\n",
      " [1 0 0 0 0 1 0 1 0 1 1 0 0 0 0 1 0 0 0 1 1 0 1 0 1 1 0 0 0 1 0 0 1 0 0 1\n",
      "  0 0 0 0 0 1 1 1 0 0 0 0 1 1 0 1]\n",
      " [0 0 1 0 1 1 0 1 1 1 1 1 0 0 0 0 0 0 0 1 1 0 0 1 1 0 0 0 1 1 0 1 1 0 0 0\n",
      "  1 0 0 1 0 1 0 0 1 0 0 0 0 1 1 0]\n",
      " [0 0 1 0 1 1 0 0 1 1 1 0 1 1 0 1 1 1 1 1 0 1 0 0 0 1 1 0 0 1 1 1 0 0 1 1\n",
      "  1 0 1 0 1 0 0 0 0 1 0 0 0 1 0 1]]\n",
      "Optimal Harmony Matrix\n",
      "[[0 1 0 0 0 1 0 0 0 0 0 1 0 1 0 1 0 1 1 0 0 0 0 0 0 1 0 0 1 1 1 0 0 0 0 0\n",
      "  1 1 1 1 0 0 1 1 0 1 1 1 0 0 1 0]]\n",
      "Final Harmony Matrix\n",
      "[[1 1 1 1 0 1 1 0 0 1 1 0 1 1 1 0 0 0 0 1 0 0 1 0 1 1 1 1 0 1 1 0 1 1 1 1\n",
      "  0 0 0 1 1 1 0 0 0 0 0 1 0 0 0 1]\n",
      " [0 1 0 0 1 0 0 1 1 0 0 0 1 0 1 1 1 1 0 0 1 1 0 0 0 1 0 0 1 1 0 0 0 0 0 1\n",
      "  1 1 1 0 0 0 0 1 0 0 1 0 1 1 1 1]\n",
      " [0 1 1 0 1 1 0 0 1 1 1 0 0 1 1 0 1 0 0 0 1 1 0 0 1 0 0 0 0 0 0 1 1 0 0 1\n",
      "  1 0 1 1 0 1 0 0 1 0 0 1 0 1 0 1]\n",
      " [0 1 0 1 0 0 1 1 1 0 1 1 0 1 0 1 0 1 0 0 1 0 0 1 1 1 0 0 0 0 0 1 1 0 0 1\n",
      "  1 0 0 0 1 0 0 0 1 1 0 1 0 0 0 1]\n",
      " [1 1 1 1 1 1 1 0 1 1 1 1 1 0 1 1 0 1 1 0 1 1 1 1 0 0 0 1 0 0 1 1 0 0 1 1\n",
      "  1 0 0 1 0 0 0 1 1 1 1 0 1 1 0 1]\n",
      " [0 0 0 1 1 0 0 1 0 1 0 1 1 1 0 1 0 0 1 1 1 1 1 1 0 0 1 0 1 1 1 0 0 0 1 0\n",
      "  0 1 1 0 0 1 0 1 0 0 0 0 0 0 1 1]\n",
      " [0 1 0 1 0 0 0 0 1 0 0 0 0 1 0 0 0 0 0 1 1 1 1 1 0 0 1 0 1 1 1 0 0 0 0 1\n",
      "  0 1 0 0 0 1 1 1 1 0 1 1 1 0 0 0]]\n",
      "Optimal Harmony Matrix\n",
      "[[1 1 1 1 1 1 1 0 1 1 1 1 1 0 1 1 0 1 1 0 1 1 1 1 0 0 0 1 0 0 1 1 0 0 1 1\n",
      "  1 0 0 1 0 0 0 1 1 1 1 0 1 1 0 1]]\n",
      "Final Harmony Matrix\n",
      "[[0 0 1 0 0 1 0 1 1 0 1 0 0 1 0 0 0 1 1 1 0 0 0 0 1 1 1 1 1 1 1 0 1 0 1 0\n",
      "  0 0 1 1 1 0 1 1 0 1 0 1 0 1 0 1]\n",
      " [1 1 0 1 1 1 0 0 1 0 0 0 0 0 1 1 1 0 0 1 1 1 1 0 0 0 0 1 0 1 1 0 0 1 0 0\n",
      "  1 1 1 0 1 0 1 0 0 0 0 0 1 1 0 1]\n",
      " [0 1 1 1 0 1 0 0 1 1 0 1 1 0 0 1 1 1 0 1 1 1 0 0 0 1 1 1 0 1 1 1 1 1 0 1\n",
      "  1 1 0 0 1 0 1 0 1 0 1 1 0 1 0 0]\n",
      " [0 0 0 1 1 0 1 0 1 0 0 1 0 0 1 1 0 1 1 0 1 0 1 1 0 0 0 1 1 0 0 0 1 0 0 0\n",
      "  1 1 1 1 1 1 1 0 1 1 0 1 1 1 1 1]\n",
      " [0 0 0 0 1 1 0 0 0 0 1 0 1 0 0 1 0 1 0 1 1 0 0 0 0 1 0 0 1 0 0 1 0 0 0 1\n",
      "  0 1 0 1 0 0 0 0 1 1 0 0 0 1 1 0]\n",
      " [1 0 0 0 1 0 0 0 1 0 1 0 0 1 1 0 1 1 1 0 0 1 0 1 0 1 0 0 1 0 1 1 0 1 0 0\n",
      "  0 1 0 1 0 1 1 1 0 0 1 0 1 0 0 1]\n",
      " [1 0 0 0 0 1 0 0 1 0 0 0 1 1 1 1 1 1 1 1 1 1 1 1 1 1 0 0 0 0 0 1 1 0 1 0\n",
      "  0 1 0 1 0 0 0 0 1 0 1 0 0 1 0 0]]\n",
      "Optimal Harmony Matrix\n",
      "[[1 0 0 0 0 1 0 0 1 0 0 0 1 1 1 1 1 1 1 1 1 1 1 1 1 1 0 0 0 0 0 1 1 0 1 0\n",
      "  0 1 0 1 0 0 0 0 1 0 1 0 0 1 0 0]]\n",
      "Final Harmony Matrix\n",
      "[[0 1 1 1 0 0 0 0 1 0 0 1 0 0 0 1 0 0 1 0 1 1 0 0 0 0 1 1 1 1 0 0 0 1 0 1\n",
      "  1 0 0 0 1 1 1 1 1 1 1 1 0 1 0 1]\n",
      " [1 0 0 0 1 1 0 1 0 1 0 0 0 1 1 1 1 0 1 0 0 1 1 1 0 0 0 1 0 1 1 1 1 1 1 0\n",
      "  0 1 1 0 0 0 1 0 1 0 1 1 0 1 1 1]\n",
      " [1 0 0 0 1 0 1 0 0 0 1 1 1 1 1 1 1 0 1 1 1 0 1 0 0 1 0 1 0 0 0 0 0 1 0 0\n",
      "  0 0 0 1 1 1 1 1 1 0 1 1 1 1 0 0]\n",
      " [1 0 1 0 1 1 0 1 0 1 1 1 1 1 0 1 1 0 0 0 1 0 1 1 0 1 1 1 0 1 0 0 0 0 0 1\n",
      "  0 0 1 1 1 1 1 1 1 1 1 0 0 1 0 0]\n",
      " [0 1 1 1 1 1 0 1 0 0 1 1 1 1 0 1 1 0 0 0 1 0 1 0 0 0 1 1 1 1 0 0 0 1 0 0\n",
      "  1 0 0 1 1 0 1 1 0 1 0 1 0 0 0 1]\n",
      " [0 1 0 0 1 1 1 1 1 1 1 0 1 0 1 0 0 1 1 0 0 0 0 1 1 0 1 0 0 0 0 1 1 0 0 0\n",
      "  0 0 0 0 0 0 0 0 0 0 1 1 1 1 1 0]\n",
      " [0 1 1 0 0 1 0 0 1 1 1 1 1 0 0 1 0 0 0 1 1 0 0 0 1 0 1 1 1 0 1 0 0 0 0 1\n",
      "  0 1 1 1 0 0 0 1 1 0 0 0 1 1 0 0]]\n",
      "Optimal Harmony Matrix\n",
      "[[1 0 0 0 1 1 0 1 0 1 0 0 0 1 1 1 1 0 1 0 0 1 1 1 0 0 0 1 0 1 1 1 1 1 1 0\n",
      "  0 1 1 0 0 0 1 0 1 0 1 1 0 1 1 1]]\n"
     ]
    }
   ],
   "source": [
    "predict_list,data_X,data_Y = train_base_models(init_models_3,init_params_3)\n",
    "\n",
    "harmony_matrix_1 = hs(harmony_matrix_1)\n",
    "harmony_matrix_2 = hs(harmony_matrix_2)\n",
    "harmony_matrix_3 = hs(harmony_matrix_3)\n",
    "harmony_matrix_4 = hs(harmony_matrix_4)\n",
    "harmony_matrix_5 = hs(harmony_matrix_5)\n",
    "harmony_matrix_6 = hs(harmony_matrix_6)\n",
    "harmony_matrix_7 = hs(harmony_matrix_7)\n",
    "harmony_matrix_8 = hs(harmony_matrix_8)"
   ]
  },
  {
   "cell_type": "code",
   "execution_count": 85,
   "metadata": {
    "scrolled": true
   },
   "outputs": [
    {
     "name": "stdout",
     "output_type": "stream",
     "text": [
      "Recursive Harmony Matrix\n",
      "[[0 1 0 1 0 1 1 1 0 0 1 1 0 0 1 1 0 0 1 0 1 0 0 0 1 0 0 1 1 0 1 0 1 1 1 0\n",
      "  0 0 0 0 1 0 0 1 1 0 1 0 0 0 0 1]\n",
      " [0 1 1 1 0 0 1 0 1 0 1 0 1 0 0 1 0 0 1 0 1 1 0 1 0 0 1 1 1 1 0 0 1 1 0 1\n",
      "  1 0 0 1 1 0 1 1 1 0 1 0 0 1 1 1]\n",
      " [1 0 0 1 1 0 0 0 0 1 0 1 1 0 1 0 0 0 1 1 1 1 1 0 1 0 0 0 0 1 1 0 1 0 0 0\n",
      "  1 0 0 1 0 1 0 0 0 0 1 1 0 1 1 1]\n",
      " [1 1 0 1 0 1 1 0 1 1 1 0 0 0 0 0 0 0 1 1 1 1 0 0 0 1 0 1 1 1 0 0 0 0 0 1\n",
      "  0 0 1 0 1 1 0 0 1 1 0 0 0 1 1 1]\n",
      " [0 1 0 0 0 1 0 0 0 0 0 1 0 1 0 1 0 1 1 0 0 0 0 0 0 1 0 0 1 1 1 0 0 0 0 0\n",
      "  1 1 1 1 0 0 1 1 0 1 1 1 0 0 1 0]\n",
      " [1 1 1 1 1 1 1 0 1 1 1 1 1 0 1 1 0 1 1 0 1 1 1 1 0 0 0 1 0 0 1 1 0 0 1 1\n",
      "  1 0 0 1 0 0 0 1 1 1 1 0 1 1 0 1]\n",
      " [1 0 0 0 0 1 0 0 1 0 0 0 1 1 1 1 1 1 1 1 1 1 1 1 1 1 0 0 0 0 0 1 1 0 1 0\n",
      "  0 1 0 1 0 0 0 0 1 0 1 0 0 1 0 0]\n",
      " [1 0 0 0 1 1 0 1 0 1 0 0 0 1 1 1 1 0 1 0 0 1 1 1 0 0 0 1 0 1 1 1 1 1 1 0\n",
      "  0 1 1 0 0 0 1 0 1 0 1 1 0 1 1 1]]\n",
      "Final Harmony Matrix\n",
      "[[0 1 0 1 0 1 1 1 0 0 1 1 0 0 1 1 0 0 1 0 1 0 0 0 1 0 0 1 1 0 1 0 1 1 1 0\n",
      "  0 0 0 0 1 0 0 1 1 0 1 0 0 0 0 1]\n",
      " [0 0 1 1 0 0 1 0 0 0 1 0 0 1 0 1 0 0 1 0 0 1 0 0 1 1 1 0 0 0 0 1 0 1 0 0\n",
      "  0 0 0 0 1 1 1 1 0 0 1 1 1 1 1 0]\n",
      " [1 0 0 1 1 0 0 0 0 1 0 1 1 0 1 0 0 0 1 1 1 1 1 0 1 0 0 0 0 1 1 0 1 0 0 0\n",
      "  1 0 0 1 0 1 0 0 0 0 1 1 0 1 1 1]\n",
      " [1 1 0 1 0 1 1 0 1 1 1 0 0 0 0 0 0 0 1 1 1 1 0 0 0 1 0 1 1 1 0 0 0 0 0 1\n",
      "  0 0 1 0 1 1 0 0 1 1 0 0 0 1 1 1]\n",
      " [0 1 0 0 0 1 0 0 0 0 0 1 0 1 0 1 0 1 1 0 0 0 0 0 0 1 0 0 1 1 1 0 0 0 0 0\n",
      "  1 1 1 1 0 0 1 1 0 1 1 1 0 0 1 0]\n",
      " [1 1 1 1 1 1 1 0 1 1 1 1 1 0 1 1 0 1 1 0 1 1 1 1 0 0 0 1 0 0 1 1 0 0 1 1\n",
      "  1 0 0 1 0 0 0 1 1 1 1 0 1 1 0 1]\n",
      " [1 0 0 0 0 1 0 0 1 0 0 0 1 1 1 1 1 1 1 1 1 1 1 1 1 1 0 0 0 0 0 1 1 0 1 0\n",
      "  0 1 0 1 0 0 0 0 1 0 1 0 0 1 0 0]\n",
      " [1 0 0 0 1 1 0 1 0 1 0 0 0 1 1 1 1 0 1 0 0 1 1 1 0 0 0 1 0 1 1 1 1 1 1 0\n",
      "  0 1 1 0 0 0 1 0 1 0 1 1 0 1 1 1]]\n",
      "Optimal Harmony Matrix\n",
      "[[1 0 0 0 1 1 0 1 0 1 0 0 0 1 1 1 1 0 1 0 0 1 1 1 0 0 0 1 0 1 1 1 1 1 1 0\n",
      "  0 1 1 0 0 0 1 0 1 0 1 1 0 1 1 1]]\n"
     ]
    }
   ],
   "source": [
    "harmony_matrix_rec = np.concatenate((harmony_matrix_1,harmony_matrix_2,harmony_matrix_3,harmony_matrix_4,\\\n",
    "                                    harmony_matrix_5,harmony_matrix_6,harmony_matrix_7,harmony_matrix_8))\n",
    "print(\"Recursive Harmony Matrix\")\n",
    "print(harmony_matrix_rec)\n",
    "harmony_matrix_rec = hs(harmony_matrix_rec)                    "
   ]
  },
  {
   "cell_type": "code",
   "execution_count": 87,
   "metadata": {
    "scrolled": true
   },
   "outputs": [
    {
     "name": "stdout",
     "output_type": "stream",
     "text": [
      "time 117.82081604003906\n",
      "0.9414551787033977\n"
     ]
    }
   ],
   "source": [
    "import time\n",
    "start = time.time()\n",
    "a_3 = final_harmony_search(init_models_3,init_params_3)\n",
    "end = time.time()\n",
    "print(\"time\",end - start)\n",
    "print(a_3)"
   ]
  },
  {
   "cell_type": "code",
   "execution_count": 88,
   "metadata": {},
   "outputs": [
    {
     "data": {
      "text/plain": [
       "[0.9413353486275559, 0.9414763406030683, 0.9414551787033977]"
      ]
     },
     "execution_count": 88,
     "metadata": {},
     "output_type": "execute_result"
    }
   ],
   "source": [
    "accu.append(a_3)\n",
    "accu"
   ]
  },
  {
   "cell_type": "code",
   "execution_count": 90,
   "metadata": {},
   "outputs": [],
   "source": [
    "new_models_rec,new_params_rec = get_new_models(init_models_3,init_params_3,harmony_matrix_rec)"
   ]
  },
  {
   "cell_type": "code",
   "execution_count": 91,
   "metadata": {},
   "outputs": [
    {
     "name": "stdout",
     "output_type": "stream",
     "text": [
      "time 101.21199083328247\n",
      "0.9416236221834362\n"
     ]
    }
   ],
   "source": [
    "import time\n",
    "start = time.time()\n",
    "b_3 = final_harmony_search(new_models_rec,new_params_rec)\n",
    "end = time.time()\n",
    "print(\"time\",end - start)\n",
    "print(b_3)\n"
   ]
  },
  {
   "cell_type": "code",
   "execution_count": 92,
   "metadata": {},
   "outputs": [
    {
     "data": {
      "text/plain": [
       "[0.9424847083981948, 0.9417781106027013, 0.9416236221834362]"
      ]
     },
     "execution_count": 92,
     "metadata": {},
     "output_type": "execute_result"
    }
   ],
   "source": [
    "accu_2.append(b_3)\n",
    "accu_2"
   ]
  },
  {
   "cell_type": "code",
   "execution_count": 93,
   "metadata": {},
   "outputs": [],
   "source": [
    "x_val=[8,30,52]"
   ]
  },
  {
   "cell_type": "code",
   "execution_count": 94,
   "metadata": {},
   "outputs": [
    {
     "data": {
      "text/plain": [
       "[0.9413353486275559, 0.9414763406030683, 0.9414551787033977]"
      ]
     },
     "execution_count": 94,
     "metadata": {},
     "output_type": "execute_result"
    }
   ],
   "source": [
    "accu"
   ]
  },
  {
   "cell_type": "code",
   "execution_count": 95,
   "metadata": {},
   "outputs": [
    {
     "data": {
      "text/plain": [
       "[0.9424847083981948, 0.9417781106027013, 0.9416236221834362]"
      ]
     },
     "execution_count": 95,
     "metadata": {},
     "output_type": "execute_result"
    }
   ],
   "source": [
    "accu_2"
   ]
  },
  {
   "cell_type": "code",
   "execution_count": null,
   "metadata": {},
   "outputs": [],
   "source": [
    "#For plotting purpose of CPU time, we have stored above cpu time values in the list"
   ]
  },
  {
   "cell_type": "code",
   "execution_count": 111,
   "metadata": {},
   "outputs": [],
   "source": [
    "CPU_time_without_reduction=[94.00571298599243,55.460633754730225,117.82081604003906]"
   ]
  },
  {
   "cell_type": "code",
   "execution_count": 112,
   "metadata": {},
   "outputs": [
    {
     "data": {
      "text/plain": [
       "[94.00571298599243, 55.460633754730225, 117.82081604003906]"
      ]
     },
     "execution_count": 112,
     "metadata": {},
     "output_type": "execute_result"
    }
   ],
   "source": [
    "CPU_time_without_reduction"
   ]
  },
  {
   "cell_type": "code",
   "execution_count": 113,
   "metadata": {},
   "outputs": [],
   "source": [
    "CPU_time_with_reduction=[77.79203200340271,4.307210206985474,101.21199083328247]"
   ]
  },
  {
   "cell_type": "code",
   "execution_count": 114,
   "metadata": {},
   "outputs": [
    {
     "data": {
      "text/plain": [
       "[77.79203200340271, 4.307210206985474, 101.21199083328247]"
      ]
     },
     "execution_count": 114,
     "metadata": {},
     "output_type": "execute_result"
    }
   ],
   "source": [
    "CPU_time_with_reduction"
   ]
  },
  {
   "cell_type": "markdown",
   "metadata": {},
   "source": [
    "Ensemble Classifiers\n",
    "\n",
    "| Number of Models| Accuracy | CPU Time |\n",
    "| --- | --- | --- |\n",
    "| 8 | 0.94133 | 94.00 |\n",
    "| 30 | 0.94147 | 55.46 |\n",
    "| 52 | 0.94145 | 117.82 |\n"
   ]
  },
  {
   "cell_type": "markdown",
   "metadata": {},
   "source": [
    "Ensemble Classifiers Reduction\n",
    "\n",
    "| Number of Models| Accuracy | CPU Time |\n",
    "| --- | --- | --- |\n",
    "| 5 | 0.94248 | 77.79 |\n",
    "| 12 | 0.94177 | 4.30|\n",
    "| 29 | 0.94162 |101.21 |"
   ]
  },
  {
   "cell_type": "markdown",
   "metadata": {},
   "source": [
    "The results show the performance of a reduced ensemble\n",
    "classifier against the performance of the original ensemble\n",
    "classifier. In all cases, the reduced ensemble classifier requires\n",
    "lesser memory and has a faster CPU run time, thereby reducing system overhead. The accuracy of the reduced ensemble\n",
    "classifier is either greater than, or almost equal to that of the\n",
    "original classifier."
   ]
  },
  {
   "cell_type": "markdown",
   "metadata": {},
   "source": [
    "● There are two tables of performance for dataset, the first table shows the performance without applying classifier ensemble reduction and the second shows the performance after classifier ensemble reduction. <br>\n",
    "● For example (bank dataset),\n",
    "- The first table shows that for an ensemble classifier with all 8 models, the accuracy is 0.94133 and CPU Run-time is 94s,\n",
    "- The second table shows that on applying classifier ensemble reduction, the number of models reduces from 8 to 5 (subset of 8) and the accuracy of training with 5 models is 0.94248 and the run time decreases to 77.79 seconds.<br>\n",
    "\n",
    "● 30 reduces to 12, and 52 reduces to 29 on applying the recursive harmony search feature selection algorithm (classifier ensemble reduction)."
   ]
  },
  {
   "cell_type": "markdown",
   "metadata": {},
   "source": [
    "--- "
   ]
  },
  {
   "cell_type": "code",
   "execution_count": 116,
   "metadata": {},
   "outputs": [],
   "source": [
    "import numpy as np\n",
    "from matplotlib.pylab import plt \n",
    "%matplotlib inline "
   ]
  },
  {
   "cell_type": "code",
   "execution_count": 125,
   "metadata": {
    "scrolled": false
   },
   "outputs": [
    {
     "data": {
      "image/png": "[encoded data removed]",
      "text/plain": [
       "<Figure size 936x720 with 1 Axes>"
      ]
     },
     "metadata": {
      "needs_background": "light"
     },
     "output_type": "display_data"
    }
   ],
   "source": [
    "plt.figure(figsize=(13,10))\n",
    "plt.plot(x_val, accu, '-', color=\"r\",marker='o', label=\"without classifier ensemble reduction\")\n",
    "plt.plot(x_val, accu_2, '-', color=\"b\", marker='o',label=\"Classifier ensemble reduction\")\n",
    "plt.legend(loc=\"upper left\")\n",
    "\n",
    "plt.title(\"Accuracy after applying CER [Bank Dataset]\", fontsize=16, fontweight='bold')\n",
    "plt.xlabel(\"Number of models\")\n",
    "plt.ylabel(\"Accuracy (AUC Score)\")\n",
    "xte=[8,30,52]\n",
    "my_xticks = ['8(5)','30(12)','52(29)']\n",
    "plt.xticks(xte, my_xticks)\n",
    "plt.show()\n"
   ]
  },
  {
   "cell_type": "markdown",
   "metadata": {},
   "source": [
    "The accuracy of the reduced ensemble classifier is greater than of the original classifier in all cases.\n",
    "X axis lables is number of models. for e.g 8(5).Here 8 shows number of models we have taken and 5 shows number of models are after reduction using recursiver harmony search algorithm. <br>\n",
    "y axis shows AUC score for checking accuracy.\n"
   ]
  },
  {
   "cell_type": "code",
   "execution_count": 126,
   "metadata": {
    "scrolled": false
   },
   "outputs": [
    {
     "data": {
      "image/png": "[encoded data removed]",
      "text/plain": [
       "<Figure size 936x720 with 1 Axes>"
      ]
     },
     "metadata": {
      "needs_background": "light"
     },
     "output_type": "display_data"
    }
   ],
   "source": [
    "plt.figure(figsize=(13,10))\n",
    "plt.plot(x_val, CPU_time_without_reduction, '-',marker='o', color=\"r\", label=\"without classifier ensemble reduction\")\n",
    "plt.plot(x_val, CPU_time_with_reduction, '-',marker='o', color=\"b\", label=\"Classifier ensemble reduction\")\n",
    "plt.legend(loc=\"upper left\")\n",
    "\n",
    "plt.title(\"CPU Runtime after applying CER [Bank Dataset]\", fontsize=16, fontweight='bold')\n",
    "plt.xlabel(\"Number of models\")\n",
    "plt.ylabel(\"CPU Time (Seconds)\")\n",
    "xte=[8,30,52]\n",
    "my_xticks = ['8(5)','30(12)','52(29)']\n",
    "plt.xticks(xte, my_xticks)\n",
    "plt.show()\n"
   ]
  },
  {
   "cell_type": "markdown",
   "metadata": {},
   "source": [
    "This graph shows how cpu runtime varies when we take different number of models. In all cases, the reduced ensemble classifier has a faster CPU run time, thereby reducing system overhead."
   ]
  },
  {
   "cell_type": "markdown",
   "metadata": {},
   "source": [
    "----"
   ]
  },
  {
   "cell_type": "markdown",
   "metadata": {},
   "source": [
    "--- "
   ]
  },
  {
   "cell_type": "markdown",
   "metadata": {},
   "source": [
    "We have also implemented and tested the recursive harmony search feature selection algorithm again <b> The Heart Dataset</b>. Results of which are as follows:"
   ]
  },
  {
   "cell_type": "markdown",
   "metadata": {},
   "source": [
    "Ensemble Classifiers\n",
    "\n",
    "| Number of Models| Accuracy | CPU Time |\n",
    "| --- | --- | --- |\n",
    "| 8 | 0.9004 | 31.00 |\n",
    "| 30 | 0.9014 | 28.43|\n",
    "| 52 | 0.9087 | 45.79 |"
   ]
  },
  {
   "cell_type": "markdown",
   "metadata": {},
   "source": [
    "Ensemble Classifiers Reduction\n",
    "\n",
    "| Number of Models| Accuracy | CPU Time |\n",
    "| --- | --- | --- |\n",
    "| 4 | 0.9087 | 28.76 |\n",
    "| 15 | 0.9058 |21.28|\n",
    "| 30 | 0.9097 |41.19 |"
   ]
  },
  {
   "cell_type": "markdown",
   "metadata": {},
   "source": [
    "![](https://user-images.githubusercontent.com/59700753/102702972-fde14c00-4236-11eb-8fe7-15548a7aebdd.png)\n",
    "\n",
    "![](https://user-images.githubusercontent.com/59700753/102702990-34b76200-4237-11eb-9338-c18d0777d8c0.png)"
   ]
  },
  {
   "cell_type": "markdown",
   "metadata": {},
   "source": [
    "---"
   ]
  },
  {
   "cell_type": "markdown",
   "metadata": {},
   "source": [
    "# Conclusion\n",
    "\n",
    "● The recursive classifier ensemble reduction results in a reduced subset of classifiers that\n",
    "are used to train the ensemble classifier. This reduced set of the ensemble classifiers\n",
    "eliminates redundancy and is shown to run faster than the original set of the ensemble\n",
    "classifier.\n",
    "\n",
    "● The recursive classifier ensemble reduction technique minimizes redundancy, maintains and\n",
    "improves diversity and accuracy, and reduces system memory and run time requirements."
   ]
  },
  {
   "cell_type": "markdown",
   "metadata": {},
   "source": [
    "--- "
   ]
  },
  {
   "cell_type": "markdown",
   "metadata": {},
   "source": [
    "# References\n",
    "\n",
    "https://ieeexplore.ieee.org/document/8663245 <br>\n",
    "https://cs.nju.edu.cn/zhouzh/zhouzh.files/publication/springerEBR09.pdf <br>\n",
    "https://www.analyticsvidhya.com/blog/2018/06/comprehensive-guide-for-ensemble-models/ <br>\n",
    "https://blog.statsbot.co/ensemble-learning-d1dcd548e936 <br>\n",
    "https://towardsdatascience.com/ensemble-methods-in-machine-learning-what-are-they-and-why-use-them-68ec3f9fef5f <br>\n",
    "https://www.degruyter.com/view/journals/jisys/27/3/article-p465.xml?language=en <br>\n"
   ]
  },
  {
   "cell_type": "markdown",
   "metadata": {},
   "source": [
    "--- "
   ]
  },
  {
   "cell_type": "markdown",
   "metadata": {},
   "source": [
    "**MIT License**\n",
    "\n",
    "Copyright (C) 2020 Shalini Chandra & Shubham Mahajan\n",
    "\n",
    "Permission is hereby granted, free of charge, to any person obtaining a copy of this software and associated documentation files (the \"Software\"), to deal in the Software without restriction, including without limitation the rights to use, copy, modify, merge, publish, distribute, sublicense, and/or sell copies of the Software, and to permit persons to whom the Software is furnished to do so, subject to the following conditions:\n",
    "\n",
    "The above copyright notice and this permission notice shall be included in all copies or substantial portions of the Software.\n",
    "\n",
    "THE SOFTWARE IS PROVIDED \"AS IS\", WITHOUT WARRANTY OF ANY KIND, EXPRESS OR IMPLIED, INCLUDING BUT NOT LIMITED TO THE WARRANTIES OF MERCHANTABILITY, FITNESS FOR A PARTICULAR PURPOSE AND NONINFRINGEMENT. IN NO EVENT SHALL THE AUTHORS OR COPYRIGHT HOLDERS BE LIABLE FOR ANY CLAIM, DAMAGES OR OTHER LIABILITY, WHETHER IN AN ACTION OF CONTRACT, TORT OR OTHERWISE, ARISING FROM, OUT OF OR IN CONNECTION WITH THE SOFTWARE OR THE USE OR OTHER DEALINGS IN THE SOFTWARE.\n",
    "\n"
   ]
  },
  {
   "cell_type": "markdown",
   "metadata": {},
   "source": [
    "--- "
   ]
  }
 ],
 "metadata": {
  "kernelspec": {
   "display_name": "Python 3",
   "language": "python",
   "name": "python3"
  },
  "language_info": {
   "codemirror_mode": {
    "name": "ipython",
    "version": 3
   },
   "file_extension": ".py",
   "mimetype": "text/x-python",
   "name": "python",
   "nbconvert_exporter": "python",
   "pygments_lexer": "ipython3",
   "version": "3.7.7"
  }
 },
 "nbformat": 4,
 "nbformat_minor": 2
}
